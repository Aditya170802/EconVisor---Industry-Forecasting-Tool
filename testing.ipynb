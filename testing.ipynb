{
 "cells": [
  {
   "cell_type": "code",
   "execution_count": 3,
   "metadata": {},
   "outputs": [],
   "source": [
    "import pandas as pd"
   ]
  },
  {
   "cell_type": "code",
   "execution_count": 38,
   "metadata": {},
   "outputs": [],
   "source": [
    "df = pd.read_csv('./Datasets/Agriculture/Agriculture Overall.csv')"
   ]
  },
  {
   "cell_type": "code",
   "execution_count": 39,
   "metadata": {},
   "outputs": [
    {
     "data": {
      "text/html": [
       "<div>\n",
       "<style scoped>\n",
       "    .dataframe tbody tr th:only-of-type {\n",
       "        vertical-align: middle;\n",
       "    }\n",
       "\n",
       "    .dataframe tbody tr th {\n",
       "        vertical-align: top;\n",
       "    }\n",
       "\n",
       "    .dataframe thead th {\n",
       "        text-align: right;\n",
       "    }\n",
       "</style>\n",
       "<table border=\"1\" class=\"dataframe\">\n",
       "  <thead>\n",
       "    <tr style=\"text-align: right;\">\n",
       "      <th></th>\n",
       "      <th>Quarterly Year</th>\n",
       "      <th>Total Agricultural Production (in million tonnes)</th>\n",
       "      <th>Total Agricultural Revenues (in billion INR)</th>\n",
       "      <th>Employment (in million people)</th>\n",
       "      <th>GDP Contribution Percentage from Agriculture</th>\n",
       "    </tr>\n",
       "  </thead>\n",
       "  <tbody>\n",
       "    <tr>\n",
       "      <th>0</th>\n",
       "      <td>2003-Q1</td>\n",
       "      <td>92.17</td>\n",
       "      <td>1,610.20</td>\n",
       "      <td>54.2</td>\n",
       "      <td>18.4</td>\n",
       "    </tr>\n",
       "    <tr>\n",
       "      <th>1</th>\n",
       "      <td>2003-Q2</td>\n",
       "      <td>94.55</td>\n",
       "      <td>1,646.80</td>\n",
       "      <td>54.3</td>\n",
       "      <td>18.2</td>\n",
       "    </tr>\n",
       "    <tr>\n",
       "      <th>2</th>\n",
       "      <td>2003-Q3</td>\n",
       "      <td>81.16</td>\n",
       "      <td>1,485.00</td>\n",
       "      <td>54.4</td>\n",
       "      <td>17.9</td>\n",
       "    </tr>\n",
       "    <tr>\n",
       "      <th>3</th>\n",
       "      <td>2003-Q4</td>\n",
       "      <td>86.77</td>\n",
       "      <td>1,561.10</td>\n",
       "      <td>54.5</td>\n",
       "      <td>18.1</td>\n",
       "    </tr>\n",
       "    <tr>\n",
       "      <th>4</th>\n",
       "      <td>2004-Q1</td>\n",
       "      <td>95.21</td>\n",
       "      <td>1,697.50</td>\n",
       "      <td>54.6</td>\n",
       "      <td>18.3</td>\n",
       "    </tr>\n",
       "  </tbody>\n",
       "</table>\n",
       "</div>"
      ],
      "text/plain": [
       "  Quarterly Year  Total Agricultural Production (in million tonnes)  \\\n",
       "0        2003-Q1                                              92.17   \n",
       "1        2003-Q2                                              94.55   \n",
       "2        2003-Q3                                              81.16   \n",
       "3        2003-Q4                                              86.77   \n",
       "4        2004-Q1                                              95.21   \n",
       "\n",
       "  Total Agricultural Revenues (in billion INR)  \\\n",
       "0                                     1,610.20   \n",
       "1                                     1,646.80   \n",
       "2                                     1,485.00   \n",
       "3                                     1,561.10   \n",
       "4                                     1,697.50   \n",
       "\n",
       "   Employment (in million people)  \\\n",
       "0                            54.2   \n",
       "1                            54.3   \n",
       "2                            54.4   \n",
       "3                            54.5   \n",
       "4                            54.6   \n",
       "\n",
       "   GDP Contribution Percentage from Agriculture  \n",
       "0                                          18.4  \n",
       "1                                          18.2  \n",
       "2                                          17.9  \n",
       "3                                          18.1  \n",
       "4                                          18.3  "
      ]
     },
     "execution_count": 39,
     "metadata": {},
     "output_type": "execute_result"
    }
   ],
   "source": [
    "df.head()"
   ]
  },
  {
   "cell_type": "code",
   "execution_count": 40,
   "metadata": {},
   "outputs": [],
   "source": [
    "df['Quarterly Year'] = pd.to_datetime(df['Quarterly Year'])"
   ]
  },
  {
   "cell_type": "code",
   "execution_count": 41,
   "metadata": {},
   "outputs": [],
   "source": [
    "for i in range(1, 5):\n",
    "    if df.iloc[:, i].dtype == 'object':\n",
    "        df.iloc[:, i] = df.iloc[:, i].str.replace(',', '')\n",
    "    df.iloc[:, i] = df.iloc[:, i].astype(float)\n",
    "df.set_index('Quarterly Year', inplace=True)"
   ]
  },
  {
   "cell_type": "code",
   "execution_count": 42,
   "metadata": {},
   "outputs": [
    {
     "data": {
      "text/html": [
       "<div>\n",
       "<style scoped>\n",
       "    .dataframe tbody tr th:only-of-type {\n",
       "        vertical-align: middle;\n",
       "    }\n",
       "\n",
       "    .dataframe tbody tr th {\n",
       "        vertical-align: top;\n",
       "    }\n",
       "\n",
       "    .dataframe thead th {\n",
       "        text-align: right;\n",
       "    }\n",
       "</style>\n",
       "<table border=\"1\" class=\"dataframe\">\n",
       "  <thead>\n",
       "    <tr style=\"text-align: right;\">\n",
       "      <th></th>\n",
       "      <th>Total Agricultural Production (in million tonnes)</th>\n",
       "      <th>Total Agricultural Revenues (in billion INR)</th>\n",
       "      <th>Employment (in million people)</th>\n",
       "      <th>GDP Contribution Percentage from Agriculture</th>\n",
       "    </tr>\n",
       "    <tr>\n",
       "      <th>Quarterly Year</th>\n",
       "      <th></th>\n",
       "      <th></th>\n",
       "      <th></th>\n",
       "      <th></th>\n",
       "    </tr>\n",
       "  </thead>\n",
       "  <tbody>\n",
       "    <tr>\n",
       "      <th>2003-01-01</th>\n",
       "      <td>92.17</td>\n",
       "      <td>1610.2</td>\n",
       "      <td>54.2</td>\n",
       "      <td>18.4</td>\n",
       "    </tr>\n",
       "    <tr>\n",
       "      <th>2003-04-01</th>\n",
       "      <td>94.55</td>\n",
       "      <td>1646.8</td>\n",
       "      <td>54.3</td>\n",
       "      <td>18.2</td>\n",
       "    </tr>\n",
       "    <tr>\n",
       "      <th>2003-07-01</th>\n",
       "      <td>81.16</td>\n",
       "      <td>1485.0</td>\n",
       "      <td>54.4</td>\n",
       "      <td>17.9</td>\n",
       "    </tr>\n",
       "    <tr>\n",
       "      <th>2003-10-01</th>\n",
       "      <td>86.77</td>\n",
       "      <td>1561.1</td>\n",
       "      <td>54.5</td>\n",
       "      <td>18.1</td>\n",
       "    </tr>\n",
       "    <tr>\n",
       "      <th>2004-01-01</th>\n",
       "      <td>95.21</td>\n",
       "      <td>1697.5</td>\n",
       "      <td>54.6</td>\n",
       "      <td>18.3</td>\n",
       "    </tr>\n",
       "  </tbody>\n",
       "</table>\n",
       "</div>"
      ],
      "text/plain": [
       "                Total Agricultural Production (in million tonnes)  \\\n",
       "Quarterly Year                                                      \n",
       "2003-01-01                                                  92.17   \n",
       "2003-04-01                                                  94.55   \n",
       "2003-07-01                                                  81.16   \n",
       "2003-10-01                                                  86.77   \n",
       "2004-01-01                                                  95.21   \n",
       "\n",
       "                Total Agricultural Revenues (in billion INR)  \\\n",
       "Quarterly Year                                                 \n",
       "2003-01-01                                            1610.2   \n",
       "2003-04-01                                            1646.8   \n",
       "2003-07-01                                            1485.0   \n",
       "2003-10-01                                            1561.1   \n",
       "2004-01-01                                            1697.5   \n",
       "\n",
       "                Employment (in million people)  \\\n",
       "Quarterly Year                                   \n",
       "2003-01-01                                54.2   \n",
       "2003-04-01                                54.3   \n",
       "2003-07-01                                54.4   \n",
       "2003-10-01                                54.5   \n",
       "2004-01-01                                54.6   \n",
       "\n",
       "                GDP Contribution Percentage from Agriculture  \n",
       "Quarterly Year                                                \n",
       "2003-01-01                                              18.4  \n",
       "2003-04-01                                              18.2  \n",
       "2003-07-01                                              17.9  \n",
       "2003-10-01                                              18.1  \n",
       "2004-01-01                                              18.3  "
      ]
     },
     "execution_count": 42,
     "metadata": {},
     "output_type": "execute_result"
    }
   ],
   "source": [
    "df.head()"
   ]
  },
  {
   "cell_type": "code",
   "execution_count": 10,
   "metadata": {},
   "outputs": [],
   "source": [
    "import pandas as pd\n",
    "from statsmodels.tsa.stattools import adfuller, kpss\n",
    "import matplotlib.pyplot as plt"
   ]
  },
  {
   "cell_type": "code",
   "execution_count": 36,
   "metadata": {},
   "outputs": [
    {
     "data": {
      "text/plain": [
       "Quarterly Year\n",
       "2006-07-01    1701.4\n",
       "2006-10-01    1783.8\n",
       "2007-01-01    1913.1\n",
       "2007-04-01    1962.2\n",
       "2007-07-01    1758.7\n",
       "               ...  \n",
       "2021-10-01    7528.2\n",
       "2022-01-01    8270.9\n",
       "2022-04-01    8568.2\n",
       "2022-07-01    7118.1\n",
       "2022-10-01    7613.1\n",
       "Name: Total Agricultural Revenues (in billion INR), Length: 66, dtype: float64"
      ]
     },
     "execution_count": 36,
     "metadata": {},
     "output_type": "execute_result"
    }
   ],
   "source": [
    "df.iloc[:, 1]"
   ]
  },
  {
   "cell_type": "code",
   "execution_count": 45,
   "metadata": {},
   "outputs": [
    {
     "data": {
      "image/png": "[encoded data removed]",
      "text/plain": [
       "<Figure size 640x480 with 1 Axes>"
      ]
     },
     "metadata": {},
     "output_type": "display_data"
    },
    {
     "data": {
      "image/png": "[encoded data removed]",
      "text/plain": [
       "<Figure size 640x480 with 1 Axes>"
      ]
     },
     "metadata": {},
     "output_type": "display_data"
    }
   ],
   "source": [
    "import matplotlib.pyplot as plt\n",
    "from statsmodels.graphics.tsaplots import plot_acf, plot_pacf\n",
    "\n",
    "# Assuming your time series data is in the 'y' column of the DataFrame\n",
    "y = df[df.columns[1]]\n",
    "\n",
    "# Plot ACF\n",
    "plot_acf(y, lags=20)\n",
    "plt.show()\n",
    "\n",
    "# Plot PACF\n",
    "plot_pacf(y, lags=20)\n",
    "plt.show()\n"
   ]
  },
  {
   "cell_type": "code",
   "execution_count": 65,
   "metadata": {},
   "outputs": [
    {
     "name": "stderr",
     "output_type": "stream",
     "text": [
      "C:\\Users\\Lenovo\\AppData\\Local\\Packages\\PythonSoftwareFoundation.Python.3.9_qbz5n2kfra8p0\\LocalCache\\local-packages\\Python39\\site-packages\\statsmodels\\tsa\\base\\tsa_model.py:471: ValueWarning: No frequency information was provided, so inferred frequency QS-OCT will be used.\n",
      "  self._init_dates(dates, freq)\n",
      "C:\\Users\\Lenovo\\AppData\\Local\\Packages\\PythonSoftwareFoundation.Python.3.9_qbz5n2kfra8p0\\LocalCache\\local-packages\\Python39\\site-packages\\statsmodels\\tsa\\base\\tsa_model.py:471: ValueWarning: No frequency information was provided, so inferred frequency QS-OCT will be used.\n",
      "  self._init_dates(dates, freq)\n",
      "C:\\Users\\Lenovo\\AppData\\Local\\Packages\\PythonSoftwareFoundation.Python.3.9_qbz5n2kfra8p0\\LocalCache\\local-packages\\Python39\\site-packages\\statsmodels\\tsa\\statespace\\sarimax.py:966: UserWarning: Non-stationary starting autoregressive parameters found. Using zeros as starting parameters.\n",
      "  warn('Non-stationary starting autoregressive parameters'\n"
     ]
    },
    {
     "name": "stdout",
     "output_type": "stream",
     "text": [
      "                                            SARIMAX Results                                             \n",
      "========================================================================================================\n",
      "Dep. Variable:     Total Agricultural Revenues (in billion INR)   No. Observations:                   75\n",
      "Model:                           SARIMAX(4, 1, 2)x(1, 0, [], 6)   Log Likelihood                -587.047\n",
      "Date:                                          Thu, 16 Nov 2023   AIC                           1190.094\n",
      "Time:                                                  02:59:44   BIC                           1208.527\n",
      "Sample:                                              01-01-2003   HQIC                          1197.447\n",
      "                                                   - 07-01-2021                                         \n",
      "Covariance Type:                                            opg                                         \n",
      "==============================================================================\n",
      "                 coef    std err          z      P>|z|      [0.025      0.975]\n",
      "------------------------------------------------------------------------------\n",
      "ar.L1          0.0355      0.614      0.058      0.954      -1.169       1.240\n",
      "ar.L2         -0.9884      0.574     -1.722      0.085      -2.113       0.136\n",
      "ar.L3          0.0286      0.410      0.070      0.944      -0.775       0.832\n",
      "ar.L4         -0.0189      0.448     -0.042      0.966      -0.897       0.859\n",
      "ma.L1         -0.0396      0.573     -0.069      0.945      -1.163       1.084\n",
      "ma.L2          0.8141      0.491      1.657      0.098      -0.149       1.777\n",
      "ar.S.L6       -0.0219      0.391     -0.056      0.955      -0.788       0.744\n",
      "sigma2      5.221e+05   4.67e+04     11.190      0.000    4.31e+05    6.14e+05\n",
      "===================================================================================\n",
      "Ljung-Box (L1) (Q):                   0.04   Jarque-Bera (JB):             10198.71\n",
      "Prob(Q):                              0.85   Prob(JB):                         0.00\n",
      "Heteroskedasticity (H):             305.05   Skew:                             7.17\n",
      "Prob(H) (two-sided):                  0.00   Kurtosis:                        58.70\n",
      "===================================================================================\n",
      "\n",
      "Warnings:\n",
      "[1] Covariance matrix calculated using the outer product of gradients (complex-step).\n"
     ]
    }
   ],
   "source": [
    "import statsmodels.api as sm\n",
    "\n",
    "# Assuming your time series data is in the 'y' column of the DataFrame\n",
    "y =  df.iloc[:75, 1]\n",
    "\n",
    "# Set the values based on your observations\n",
    "p, d, q = 4, 1, 2  # Non-seasonal parameters\n",
    "P, D, Q, m = 1, 0, 0, 6  # Seasonal parameters\n",
    "\n",
    "# Fit the SARIMA model\n",
    "sarima_model = sm.tsa.SARIMAX(y, order=(p, d, q), seasonal_order=(P, D, Q, m)).fit()\n",
    "\n",
    "# Print model summary\n",
    "print(sarima_model.summary())\n"
   ]
  },
  {
   "cell_type": "code",
   "execution_count": 66,
   "metadata": {},
   "outputs": [
    {
     "data": {
      "text/plain": [
       "2021-10-01    7070.363160\n",
       "2022-01-01    8098.972942\n",
       "Freq: QS-OCT, Name: predicted_mean, dtype: float64"
      ]
     },
     "execution_count": 66,
     "metadata": {},
     "output_type": "execute_result"
    }
   ],
   "source": [
    "sarima_model.forecast(steps=2)"
   ]
  },
  {
   "cell_type": "code",
   "execution_count": 14,
   "metadata": {},
   "outputs": [],
   "source": [
    "# Assuming your time series is in the column 'y'\n",
    "df['diff'] = df[df.columns[0]].diff()"
   ]
  },
  {
   "cell_type": "code",
   "execution_count": 15,
   "metadata": {},
   "outputs": [],
   "source": [
    "df = df.dropna()"
   ]
  },
  {
   "cell_type": "code",
   "execution_count": 16,
   "metadata": {},
   "outputs": [
    {
     "data": {
      "text/plain": [
       "[<matplotlib.lines.Line2D at 0x22e8bf5b700>]"
      ]
     },
     "execution_count": 16,
     "metadata": {},
     "output_type": "execute_result"
    },
    {
     "data": {
      "image/png": "[encoded data removed]",
      "text/plain": [
       "<Figure size 640x480 with 1 Axes>"
      ]
     },
     "metadata": {},
     "output_type": "display_data"
    }
   ],
   "source": [
    "plt.plot(df['diff'])"
   ]
  },
  {
   "cell_type": "code",
   "execution_count": 23,
   "metadata": {},
   "outputs": [],
   "source": [
    "df['seasonal_diff'] = df[df.columns[0]] - df[df.columns[0]].shift(4)\n",
    "\n",
    "df = df.dropna()"
   ]
  },
  {
   "cell_type": "code",
   "execution_count": 25,
   "metadata": {},
   "outputs": [],
   "source": [
    "df['seasonal_diff_trend'] = df.seasonal_diff.diff()"
   ]
  },
  {
   "cell_type": "code",
   "execution_count": 26,
   "metadata": {},
   "outputs": [],
   "source": [
    "df = df.dropna()"
   ]
  },
  {
   "cell_type": "code",
   "execution_count": 27,
   "metadata": {},
   "outputs": [
    {
     "data": {
      "text/plain": [
       "[<matplotlib.lines.Line2D at 0x22e8cf53bb0>]"
      ]
     },
     "execution_count": 27,
     "metadata": {},
     "output_type": "execute_result"
    },
    {
     "data": {
      "image/png": "[encoded data removed]",
      "text/plain": [
       "<Figure size 640x480 with 1 Axes>"
      ]
     },
     "metadata": {},
     "output_type": "display_data"
    }
   ],
   "source": [
    "plt.plot(df['seasonal_diff_trend'])"
   ]
  },
  {
   "cell_type": "code",
   "execution_count": 31,
   "metadata": {},
   "outputs": [
    {
     "name": "stdout",
     "output_type": "stream",
     "text": [
      "ADF Statistic: -7.3451425856860695\n",
      "ADF p-value: 1.040344158970625e-10\n",
      "KPSS Statistic: 0.030011344896943258\n",
      "KPSS p-value: 0.1\n",
      "The time series is likely stationary according to the ADF test.\n",
      "Differencing may be needed to achieve stationarity based on the KPSS test.\n"
     ]
    },
    {
     "name": "stderr",
     "output_type": "stream",
     "text": [
      "C:\\Users\\Lenovo\\AppData\\Local\\Packages\\PythonSoftwareFoundation.Python.3.9_qbz5n2kfra8p0\\LocalCache\\local-packages\\Python39\\site-packages\\statsmodels\\tsa\\stattools.py:2022: InterpolationWarning: The test statistic is outside of the range of p-values available in the\n",
      "look-up table. The actual p-value is greater than the p-value returned.\n",
      "\n",
      "  warnings.warn(\n"
     ]
    }
   ],
   "source": [
    "from statsmodels.tsa.stattools import adfuller, kpss\n",
    "\n",
    "def stationarity_tests(timeseries):\n",
    "    # Perform ADF test\n",
    "    result_adf = adfuller(timeseries, autolag='AIC')\n",
    "    adf_statistic = result_adf[0]\n",
    "    adf_pvalue = result_adf[1]\n",
    "\n",
    "    # Perform KPSS test\n",
    "    result_kpss = kpss(timeseries, regression='c', nlags='auto')\n",
    "    kpss_statistic = result_kpss[0]\n",
    "    kpss_pvalue = result_kpss[1]\n",
    "\n",
    "    # Display results\n",
    "    print(\"ADF Statistic:\", adf_statistic)\n",
    "    print(\"ADF p-value:\", adf_pvalue)\n",
    "    print(\"KPSS Statistic:\", kpss_statistic)\n",
    "    print(\"KPSS p-value:\", kpss_pvalue)\n",
    "\n",
    "    # Compare p-values with alpha\n",
    "    if adf_pvalue <= 0.05 and kpss_pvalue > 0.05:\n",
    "        print(\"The time series is likely stationary according to the ADF test.\")\n",
    "    elif adf_pvalue > 0.05 and kpss_pvalue <= 0.05:\n",
    "        print(\"The time series is likely stationary according to the KPSS test.\")\n",
    "    elif adf_pvalue <= 0.05 and kpss_pvalue <= 0.05:\n",
    "        print(\"The time series is likely stationary.\")\n",
    "    else:\n",
    "        print(\"The time series is likely non-stationary.\")\n",
    "\n",
    "    # Recommend differencing if needed\n",
    "    if adf_pvalue > 0.05:\n",
    "        print(\"Differencing may be needed to achieve stationarity based on the ADF test.\")\n",
    "    elif kpss_pvalue > 0.05:\n",
    "        print(\"Differencing may be needed to achieve stationarity based on the KPSS test.\")\n",
    "\n",
    "# Example usage\n",
    "# Assuming df is your DataFrame and 'Total Agricultural Production (in million tonnes)' is the column\n",
    "stationarity_tests(df['seasonal_diff_trend'])"
   ]
  },
  {
   "cell_type": "code",
   "execution_count": 15,
   "metadata": {},
   "outputs": [],
   "source": [
    "import pandas as pd\n",
    "from statsmodels.tsa.stattools import adfuller\n",
    "\n",
    "def stationarity_tests(timeseries):\n",
    "    # Perform ADF test for trend stationarity\n",
    "    result_adf_trend = adfuller(timeseries, autolag='AIC')\n",
    "    adf_pvalue_trend = result_adf_trend[1]\n",
    "\n",
    "    # Differencing for trend stationarity\n",
    "    num_diff_trend = 0\n",
    "    while adf_pvalue_trend > 0.05:\n",
    "        timeseries = timeseries.diff().dropna()\n",
    "        result_adf_trend = adfuller(timeseries, autolag='AIC')\n",
    "        adf_pvalue_trend = result_adf_trend[1]\n",
    "        num_diff_trend += 1\n",
    "\n",
    "    # # Perform ADF test for seasonality stationarity\n",
    "    # result_adf_seasonal = adfuller(timeseries.diff().dropna(), autolag='AIC')\n",
    "    # adf_pvalue_seasonal = result_adf_seasonal[1]\n",
    "\n",
    "    # # Differencing for seasonality stationarity\n",
    "    # num_diff_seasonal = 0\n",
    "    # while adf_pvalue_seasonal > 0.05:\n",
    "    #     timeseries = timeseries.diff().dropna()\n",
    "    #     result_adf_seasonal = adfuller(timeseries.diff().dropna(), autolag='AIC')\n",
    "    #     adf_pvalue_seasonal = result_adf_seasonal[1]\n",
    "    #     num_diff_seasonal += 1\n",
    "\n",
    "    return num_diff_trend\n",
    "\n",
    "# Example usage\n",
    "# Assuming df is your DataFrame and 'Total Agricultural Production (in million tonnes)' is the column\n",
    "trend_diff = stationarity_tests(df[df.columns[0]])\n"
   ]
  },
  {
   "cell_type": "code",
   "execution_count": 33,
   "metadata": {},
   "outputs": [
    {
     "data": {
      "text/plain": [
       "Quarterly Year\n",
       "2006-07-01    0.62\n",
       "2006-10-01   -0.37\n",
       "2007-01-01   -0.60\n",
       "2007-04-01    0.31\n",
       "2007-07-01   -0.42\n",
       "              ... \n",
       "2021-10-01   -0.03\n",
       "2022-01-01    0.03\n",
       "2022-04-01    0.08\n",
       "2022-07-01   -1.24\n",
       "2022-10-01   -0.10\n",
       "Name: seasonal_diff_trend, Length: 66, dtype: float64"
      ]
     },
     "execution_count": 33,
     "metadata": {},
     "output_type": "execute_result"
    }
   ],
   "source": []
  },
  {
   "cell_type": "code",
   "execution_count": 35,
   "metadata": {},
   "outputs": [
    {
     "data": {
      "image/png": "[encoded data removed]",
      "text/plain": [
       "<Figure size 1200x800 with 4 Axes>"
      ]
     },
     "metadata": {},
     "output_type": "display_data"
    }
   ],
   "source": [
    "import pandas as pd\n",
    "import matplotlib.pyplot as plt\n",
    "from statsmodels.tsa.stattools import adfuller\n",
    "from statsmodels.graphics.tsaplots import plot_acf, plot_pacf\n",
    "\n",
    "def stationarity_tests(timeseries):\n",
    "    # Perform ADF test for trend stationarity\n",
    "    result_adf_trend = adfuller(timeseries, autolag='AIC')\n",
    "    adf_pvalue_trend = result_adf_trend[1]\n",
    "\n",
    "    # Differencing for trend stationarity\n",
    "    num_diff_trend = 0\n",
    "    while adf_pvalue_trend > 0.05:\n",
    "        timeseries = timeseries.diff().dropna()\n",
    "        result_adf_trend = adfuller(timeseries, autolag='AIC')\n",
    "        adf_pvalue_trend = result_adf_trend[1]\n",
    "        num_diff_trend += 1\n",
    "\n",
    "    # # Perform ADF test for seasonality stationarity\n",
    "    # result_adf_seasonal = adfuller(timeseries.diff().dropna(), autolag='AIC')\n",
    "    # adf_pvalue_seasonal = result_adf_seasonal[1]\n",
    "\n",
    "    # # Differencing for seasonality stationarity\n",
    "    # num_diff_seasonal = 0\n",
    "    # while adf_pvalue_seasonal > 0.05:\n",
    "    #     timeseries = timeseries.diff().dropna()\n",
    "    #     result_adf_seasonal = adfuller(timeseries.diff().dropna(), autolag='AIC')\n",
    "    #     adf_pvalue_seasonal = result_adf_seasonal[1]\n",
    "    #     num_diff_seasonal += 1\n",
    "\n",
    "    return timeseries, num_diff_trend #num_diff_seasonal\n",
    "\n",
    "# Example usage\n",
    "# Assuming df is your DataFrame and 'Total Agricultural Production (in million tonnes)' is the column\n",
    "# timeseries, trend_diff = stationarity_tests(df[df.columns[0]])\n",
    "timeseries = df.loc[:, 'seasonal_diff']\n",
    "# Plot ACF and PACF\n",
    "fig, ax = plt.subplots(2, 2, figsize=(12, 8))\n",
    "\n",
    "# Differenced for trend stationarity\n",
    "plot_acf(timeseries, lags=20, ax=ax[1, 0])\n",
    "plot_pacf(timeseries, lags=20, ax=ax[1, 1])\n",
    "ax[1, 0].set_title(f'ACF - Differenced for Trend ({5} differences)')\n",
    "ax[1, 1].set_title(f'PACF - Differenced for Trend ({5} differences)')\n",
    "\n",
    "plt.tight_layout()\n",
    "plt.show()\n"
   ]
  },
  {
   "cell_type": "code",
   "execution_count": 21,
   "metadata": {},
   "outputs": [
    {
     "name": "stderr",
     "output_type": "stream",
     "text": [
      "C:\\Users\\Lenovo\\AppData\\Local\\Packages\\PythonSoftwareFoundation.Python.3.9_qbz5n2kfra8p0\\LocalCache\\local-packages\\Python39\\site-packages\\statsmodels\\graphics\\tsaplots.py:348: FutureWarning: The default method 'yw' can produce PACF values outside of the [-1,1] interval. After 0.13, the default will change tounadjusted Yule-Walker ('ywm'). You can use this method now by setting method='ywm'.\n",
      "  warnings.warn(\n"
     ]
    },
    {
     "data": {
      "image/png": "[encoded data removed]",
      "text/plain": [
       "<Figure size 1200x800 with 4 Axes>"
      ]
     },
     "metadata": {},
     "output_type": "display_data"
    },
    {
     "ename": "AttributeError",
     "evalue": "'Figure' object has no attribute 'significant_lags'",
     "output_type": "error",
     "traceback": [
      "\u001b[1;31m---------------------------------------------------------------------------\u001b[0m",
      "\u001b[1;31mAttributeError\u001b[0m                            Traceback (most recent call last)",
      "\u001b[1;32mc:\\Users\\Lenovo\\OneDrive\\Desktop\\EconVisor\\EconVisor---Industry-Forecasting-Tool\\testing.ipynb Cell 11\u001b[0m line \u001b[0;36m6\n\u001b[0;32m     <a href='vscode-notebook-cell:/c%3A/Users/Lenovo/OneDrive/Desktop/EconVisor/EconVisor---Industry-Forecasting-Tool/testing.ipynb#X15sZmlsZQ%3D%3D?line=57'>58</a>\u001b[0m \u001b[39m# Example usage\u001b[39;00m\n\u001b[0;32m     <a href='vscode-notebook-cell:/c%3A/Users/Lenovo/OneDrive/Desktop/EconVisor/EconVisor---Industry-Forecasting-Tool/testing.ipynb#X15sZmlsZQ%3D%3D?line=58'>59</a>\u001b[0m \u001b[39m# Assuming df is your DataFrame and 'Total Agricultural Production (in million tonnes)' is the column\u001b[39;00m\n\u001b[0;32m     <a href='vscode-notebook-cell:/c%3A/Users/Lenovo/OneDrive/Desktop/EconVisor/EconVisor---Industry-Forecasting-Tool/testing.ipynb#X15sZmlsZQ%3D%3D?line=59'>60</a>\u001b[0m timeseries, trend_diff, seasonal_diff \u001b[39m=\u001b[39m stationarity_tests(df[\u001b[39m'\u001b[39m\u001b[39mTotal Agricultural Production (in million tonnes)\u001b[39m\u001b[39m'\u001b[39m])\n\u001b[1;32m---> <a href='vscode-notebook-cell:/c%3A/Users/Lenovo/OneDrive/Desktop/EconVisor/EconVisor---Industry-Forecasting-Tool/testing.ipynb#X15sZmlsZQ%3D%3D?line=60'>61</a>\u001b[0m print_acf_pacf_lags(timeseries, trend_diff, seasonal_diff)\n",
      "\u001b[1;32mc:\\Users\\Lenovo\\OneDrive\\Desktop\\EconVisor\\EconVisor---Industry-Forecasting-Tool\\testing.ipynb Cell 11\u001b[0m line \u001b[0;36m5\n\u001b[0;32m     <a href='vscode-notebook-cell:/c%3A/Users/Lenovo/OneDrive/Desktop/EconVisor/EconVisor---Industry-Forecasting-Tool/testing.ipynb#X15sZmlsZQ%3D%3D?line=49'>50</a>\u001b[0m plt\u001b[39m.\u001b[39mshow()\n\u001b[0;32m     <a href='vscode-notebook-cell:/c%3A/Users/Lenovo/OneDrive/Desktop/EconVisor/EconVisor---Industry-Forecasting-Tool/testing.ipynb#X15sZmlsZQ%3D%3D?line=51'>52</a>\u001b[0m \u001b[39m# Print significant lags\u001b[39;00m\n\u001b[1;32m---> <a href='vscode-notebook-cell:/c%3A/Users/Lenovo/OneDrive/Desktop/EconVisor/EconVisor---Industry-Forecasting-Tool/testing.ipynb#X15sZmlsZQ%3D%3D?line=52'>53</a>\u001b[0m \u001b[39mprint\u001b[39m(\u001b[39m\"\u001b[39m\u001b[39mACF Original Significant Lags:\u001b[39m\u001b[39m\"\u001b[39m, acf_orig\u001b[39m.\u001b[39;49msignificant_lags)\n\u001b[0;32m     <a href='vscode-notebook-cell:/c%3A/Users/Lenovo/OneDrive/Desktop/EconVisor/EconVisor---Industry-Forecasting-Tool/testing.ipynb#X15sZmlsZQ%3D%3D?line=53'>54</a>\u001b[0m \u001b[39mprint\u001b[39m(\u001b[39m\"\u001b[39m\u001b[39mPACF Original Significant Lags:\u001b[39m\u001b[39m\"\u001b[39m, pacf_orig\u001b[39m.\u001b[39msignificant_lags)\n\u001b[0;32m     <a href='vscode-notebook-cell:/c%3A/Users/Lenovo/OneDrive/Desktop/EconVisor/EconVisor---Industry-Forecasting-Tool/testing.ipynb#X15sZmlsZQ%3D%3D?line=54'>55</a>\u001b[0m \u001b[39mprint\u001b[39m(\u001b[39m\"\u001b[39m\u001b[39mACF Diff Trend Significant Lags:\u001b[39m\u001b[39m\"\u001b[39m, acf_diff_trend\u001b[39m.\u001b[39msignificant_lags)\n",
      "\u001b[1;31mAttributeError\u001b[0m: 'Figure' object has no attribute 'significant_lags'"
     ]
    }
   ],
   "source": [
    "import pandas as pd\n",
    "import matplotlib.pyplot as plt\n",
    "from statsmodels.tsa.stattools import adfuller\n",
    "from statsmodels.graphics.tsaplots import plot_acf, plot_pacf\n",
    "\n",
    "def stationarity_tests(timeseries):\n",
    "    # Perform ADF test for trend stationarity\n",
    "    result_adf_trend = adfuller(timeseries, autolag='AIC')\n",
    "    adf_pvalue_trend = result_adf_trend[1]\n",
    "\n",
    "    # Differencing for trend stationarity\n",
    "    num_diff_trend = 0\n",
    "    while adf_pvalue_trend > 0.05:\n",
    "        timeseries = timeseries.diff().dropna()\n",
    "        result_adf_trend = adfuller(timeseries, autolag='AIC')\n",
    "        adf_pvalue_trend = result_adf_trend[1]\n",
    "        num_diff_trend += 1\n",
    "\n",
    "    # Perform ADF test for seasonality stationarity\n",
    "    result_adf_seasonal = adfuller(timeseries.diff().dropna(), autolag='AIC')\n",
    "    adf_pvalue_seasonal = result_adf_seasonal[1]\n",
    "\n",
    "    # Differencing for seasonality stationarity\n",
    "    num_diff_seasonal = 0\n",
    "    while adf_pvalue_seasonal > 0.05:\n",
    "        timeseries = timeseries.diff().dropna()\n",
    "        result_adf_seasonal = adfuller(timeseries.diff().dropna(), autolag='AIC')\n",
    "        adf_pvalue_seasonal = result_adf_seasonal[1]\n",
    "        num_diff_seasonal += 1\n",
    "\n",
    "    return timeseries, num_diff_trend, num_diff_seasonal\n",
    "\n",
    "def print_acf_pacf_lags(timeseries, trend_diff, seasonal_diff):\n",
    "    # Plot ACF and PACF\n",
    "    fig, ax = plt.subplots(2, 2, figsize=(12, 8))\n",
    "\n",
    "    # Original time series\n",
    "    acf_orig = plot_acf(timeseries, lags=20, ax=ax[0, 0])\n",
    "    pacf_orig = plot_pacf(timeseries, lags=20, ax=ax[0, 1])\n",
    "    ax[0, 0].set_title('ACF - Original')\n",
    "    ax[0, 1].set_title('PACF - Original')\n",
    "\n",
    "    # Differenced for trend stationarity\n",
    "    acf_diff_trend = plot_acf(timeseries.diff().dropna(), lags=20, ax=ax[1, 0])\n",
    "    pacf_diff_trend = plot_pacf(timeseries.diff().dropna(), lags=20, ax=ax[1, 1])\n",
    "    ax[1, 0].set_title(f'ACF - Differenced for Trend ({trend_diff} differences)')\n",
    "    ax[1, 1].set_title(f'PACF - Differenced for Trend ({trend_diff} differences)')\n",
    "\n",
    "    plt.tight_layout()\n",
    "    plt.show()\n",
    "\n",
    "    # Print significant lags\n",
    "    print(\"ACF Original Significant Lags:\", acf_orig.significant_lags)\n",
    "    print(\"PACF Original Significant Lags:\", pacf_orig.significant_lags)\n",
    "    print(\"ACF Diff Trend Significant Lags:\", acf_diff_trend.significant_lags)\n",
    "    print(\"PACF Diff Trend Significant Lags:\", pacf_diff_trend.significant_lags)\n",
    "\n",
    "# Example usage\n",
    "# Assuming df is your DataFrame and 'Total Agricultural Production (in million tonnes)' is the column\n",
    "timeseries, trend_diff, seasonal_diff = stationarity_tests(df['Total Agricultural Production (in million tonnes)'])\n",
    "print_acf_pacf_lags(timeseries, trend_diff, seasonal_diff)\n"
   ]
  },
  {
   "cell_type": "code",
   "execution_count": 22,
   "metadata": {},
   "outputs": [
    {
     "data": {
      "image/png": "[encoded data removed]",
      "text/plain": [
       "<Figure size 1200x800 with 4 Axes>"
      ]
     },
     "metadata": {},
     "output_type": "display_data"
    },
    {
     "name": "stdout",
     "output_type": "stream",
     "text": [
      "ACF Original Significant Lags: [0, 1, 2, 3, 4, 5, 6, 7, 8, 9, 10, 11, 12, 13, 14, 15, 16, 17, 18, 19, 20]\n",
      "PACF Original Significant Lags: [0, 1, 2, 3, 4, 5, 6, 7, 8, 9, 10, 11, 12, 13, 14, 15, 16, 17, 18, 19, 20]\n",
      "ACF Diff Trend Significant Lags: [0, 1, 2, 3, 4, 5, 6, 7, 8, 9, 10, 11, 12, 13, 14, 15, 16, 17, 18, 19, 20]\n",
      "PACF Diff Trend Significant Lags: [0, 1, 2, 3, 4, 5, 6, 7, 8, 9, 11, 13, 14, 15, 16, 17, 18, 19, 20]\n"
     ]
    }
   ],
   "source": [
    "import pandas as pd\n",
    "import matplotlib.pyplot as plt\n",
    "from statsmodels.tsa.stattools import adfuller, acf, pacf\n",
    "\n",
    "def stationarity_tests(timeseries):\n",
    "    # Perform ADF test for trend stationarity\n",
    "    result_adf_trend = adfuller(timeseries, autolag='AIC')\n",
    "    adf_pvalue_trend = result_adf_trend[1]\n",
    "\n",
    "    # Differencing for trend stationarity\n",
    "    num_diff_trend = 0\n",
    "    while adf_pvalue_trend > 0.05:\n",
    "        timeseries = timeseries.diff().dropna()\n",
    "        result_adf_trend = adfuller(timeseries, autolag='AIC')\n",
    "        adf_pvalue_trend = result_adf_trend[1]\n",
    "        num_diff_trend += 1\n",
    "\n",
    "    # Perform ADF test for seasonality stationarity\n",
    "    result_adf_seasonal = adfuller(timeseries.diff().dropna(), autolag='AIC')\n",
    "    adf_pvalue_seasonal = result_adf_seasonal[1]\n",
    "\n",
    "    # Differencing for seasonality stationarity\n",
    "    num_diff_seasonal = 0\n",
    "    while adf_pvalue_seasonal > 0.05:\n",
    "        timeseries = timeseries.diff().dropna()\n",
    "        result_adf_seasonal = adfuller(timeseries.diff().dropna(), autolag='AIC')\n",
    "        adf_pvalue_seasonal = result_adf_seasonal[1]\n",
    "        num_diff_seasonal += 1\n",
    "\n",
    "    return timeseries, num_diff_trend, num_diff_seasonal\n",
    "\n",
    "def print_acf_pacf_lags(timeseries, trend_diff, seasonal_diff):\n",
    "    # Plot ACF and PACF\n",
    "    fig, ax = plt.subplots(2, 2, figsize=(12, 8))\n",
    "\n",
    "    # Original time series\n",
    "    acf_orig = acf(timeseries, fft=True, nlags=20)\n",
    "    pacf_orig = pacf(timeseries, nlags=20)\n",
    "    ax[0, 0].stem(acf_orig)\n",
    "    ax[0, 1].stem(pacf_orig)\n",
    "    ax[0, 0].set_title('ACF - Original')\n",
    "    ax[0, 1].set_title('PACF - Original')\n",
    "\n",
    "    # Differenced for trend stationarity\n",
    "    acf_diff_trend = acf(timeseries.diff().dropna(), fft=True, nlags=20)\n",
    "    pacf_diff_trend = pacf(timeseries.diff().dropna(), nlags=20)\n",
    "    ax[1, 0].stem(acf_diff_trend)\n",
    "    ax[1, 1].stem(pacf_diff_trend)\n",
    "    ax[1, 0].set_title(f'ACF - Differenced for Trend ({trend_diff} differences)')\n",
    "    ax[1, 1].set_title(f'PACF - Differenced for Trend ({trend_diff} differences)')\n",
    "\n",
    "    plt.tight_layout()\n",
    "    plt.show()\n",
    "\n",
    "    # Print significant lags\n",
    "    print(\"ACF Original Significant Lags:\", [i for i, val in enumerate(acf_orig) if abs(val) > 1.96/len(timeseries)])\n",
    "    print(\"PACF Original Significant Lags:\", [i for i, val in enumerate(pacf_orig) if abs(val) > 1.96/len(timeseries)])\n",
    "    print(\"ACF Diff Trend Significant Lags:\", [i for i, val in enumerate(acf_diff_trend) if abs(val) > 1.96/len(timeseries)])\n",
    "    print(\"PACF Diff Trend Significant Lags:\", [i for i, val in enumerate(pacf_diff_trend) if abs(val) > 1.96/len(timeseries)])\n",
    "\n",
    "# Example usage\n",
    "# Assuming df is your DataFrame and 'Total Agricultural Production (in million tonnes)' is the column\n",
    "timeseries, trend_diff, seasonal_diff = stationarity_tests(df['Total Agricultural Production (in million tonnes)'])\n",
    "print_acf_pacf_lags(timeseries, trend_diff, seasonal_diff)\n",
    "\n",
    "\n"
   ]
  },
  {
   "cell_type": "code",
   "execution_count": 47,
   "metadata": {},
   "outputs": [],
   "source": [
    "import pandas as pd\n",
    "import matplotlib.pyplot as plt\n",
    "from statsmodels.tsa.stattools import adfuller, acf, pacf\n",
    "\n",
    "def stationarity_tests(timeseries):\n",
    "    # Perform ADF test for trend stationarity\n",
    "    result_adf_trend = adfuller(timeseries, autolag='AIC')\n",
    "    adf_pvalue_trend = result_adf_trend[1]\n",
    "\n",
    "    # Differencing for trend stationarity\n",
    "    num_diff_trend = 0\n",
    "    while adf_pvalue_trend > 0.05:\n",
    "        timeseries = timeseries.diff().dropna()\n",
    "        result_adf_trend = adfuller(timeseries, autolag='AIC')\n",
    "        adf_pvalue_trend = result_adf_trend[1]\n",
    "        num_diff_trend += 1\n",
    "\n",
    "    # # Perform ADF test for seasonality stationarity\n",
    "    # result_adf_seasonal = adfuller(timeseries.diff().dropna(), autolag='AIC')\n",
    "    # adf_pvalue_seasonal = result_adf_seasonal[1]\n",
    "\n",
    "    # # Differencing for seasonality stationarity\n",
    "    # num_diff_seasonal = 0\n",
    "    # while adf_pvalue_seasonal > 0.05:\n",
    "    #     timeseries = timeseries.diff().dropna()\n",
    "    #     result_adf_seasonal = adfuller(timeseries.diff().dropna(), autolag='AIC')\n",
    "    #     adf_pvalue_seasonal = result_adf_seasonal[1]\n",
    "    #     num_diff_seasonal += 1\n",
    "\n",
    "    return timeseries, num_diff_trend #, num_diff_seasonal\n",
    "\n",
    "def print_acf_pacf_lags(timeseries, trend_diff):\n",
    "    # Plot ACF and PACF\n",
    "    # fig, ax = plt.subplots(2, 2, figsize=(12, 8))\n",
    "\n",
    "    # # Original time series\n",
    "    acf_orig = acf(timeseries, fft=True, nlags=20)\n",
    "    pacf_orig = pacf(timeseries, nlags=20)\n",
    "    # ax[0, 0].stem(acf_orig)\n",
    "    # ax[0, 1].stem(pacf_orig)\n",
    "    # ax[0, 0].set_title('ACF - Original')\n",
    "    # ax[0, 1].set_title('PACF - Original')\n",
    "\n",
    "    # # Differenced for trend stationarity\n",
    "    acf_diff_trend = acf(timeseries.diff().dropna(), fft=True, nlags=20)\n",
    "    pacf_diff_trend = pacf(timeseries.diff().dropna(), nlags=20)\n",
    "    # ax[1, 0].stem(acf_diff_trend)\n",
    "    # ax[1, 1].stem(pacf_diff_trend)\n",
    "    # ax[1, 0].set_title(f'ACF - Differenced for Trend ({trend_diff} differences)')\n",
    "    # ax[1, 1].set_title(f'PACF - Differenced for Trend ({trend_diff} differences)')\n",
    "\n",
    "    # plt.tight_layout()\n",
    "    # plt.show()\n",
    "\n",
    "    # # Print significant lags\n",
    "    def find_significant_lags(acf_values):\n",
    "        conf_interval = 1.96 / len(timeseries)**0.5\n",
    "        return [i for i, val in enumerate(acf_values) if abs(val) > conf_interval]\n",
    "\n",
    "    # print(\"ACF Original Significant Lags:\", find_significant_lags(acf_orig))\n",
    "    # print(\"PACF Original Significant Lags:\", find_significant_lags(pacf_orig))\n",
    "    # print(\"ACF Diff Trend Significant Lags:\", find_significant_lags(acf_diff_trend))\n",
    "    # print(\"PACF Diff Trend Significant Lags:\", find_significant_lags(pacf_diff_trend))\n",
    "\n",
    "    return [find_significant_lags(acf_orig), find_significant_lags(pacf_orig), find_significant_lags(acf_diff_trend), find_significant_lags(pacf_diff_trend)]\n",
    "\n",
    "# Assuming df is your DataFrame and 'Total Agricultural Production (in million tonnes)' is the column\n",
    "timeseries, trend_diff = stationarity_tests(df[df.columns[1]]) #, seasonal_diff\n",
    "lags_data = print_acf_pacf_lags(timeseries, trend_diff)\n"
   ]
  },
  {
   "cell_type": "code",
   "execution_count": 65,
   "metadata": {},
   "outputs": [],
   "source": [
    "import pandas as pd\n",
    "from statsmodels.tsa.stattools import adfuller, acf, pacf\n",
    "from statsmodels.tsa.arima.model import ARIMA\n",
    "\n",
    "\n",
    "def stationarity_tests(timeseries):\n",
    "    result_adf_trend = adfuller(timeseries, autolag='AIC')\n",
    "    adf_pvalue_trend = result_adf_trend[1]\n",
    "\n",
    "    num_diff_trend = 0\n",
    "    while adf_pvalue_trend > 0.05:\n",
    "        timeseries = timeseries.diff().dropna()\n",
    "        result_adf_trend = adfuller(timeseries, autolag='AIC')\n",
    "        adf_pvalue_trend = result_adf_trend[1]\n",
    "        num_diff_trend += 1\n",
    "\n",
    "    return timeseries, num_diff_trend\n",
    "\n",
    "def print_acf_pacf_lags(timeseries, trend_diff):\n",
    "    acf_orig = acf(timeseries, fft=True, nlags=20)\n",
    "    pacf_orig = pacf(timeseries, nlags=20)\n",
    "\n",
    "    acf_diff_trend = acf(timeseries.diff().dropna(), fft=True, nlags=20)\n",
    "    pacf_diff_trend = pacf(timeseries.diff().dropna(), nlags=20)\n",
    "\n",
    "    def find_significant_lags(acf_values):\n",
    "        conf_interval = 1.96 / len(timeseries)**0.5\n",
    "        return [i for i, val in enumerate(acf_values) if abs(val) > conf_interval]\n",
    "\n",
    "    return [find_significant_lags(acf_orig), find_significant_lags(pacf_orig), find_significant_lags(acf_diff_trend), find_significant_lags(pacf_diff_trend)]\n",
    "\n",
    "timeseries, trend_diff = stationarity_tests(df[df.columns[1]]) #, seasonal_diff\n",
    "lags_data = print_acf_pacf_lags(timeseries, trend_diff)\n",
    "\n",
    "P = []\n",
    "Q = []\n",
    "if trend_diff!=0:\n",
    "    P = lags_data[3]\n",
    "    Q = lags_data[2]\n",
    "else:\n",
    "    P = lags_data[1]\n",
    "    Q = lags_data[0]\n",
    "\n",
    "if 0 in P:\n",
    "    P.remove(0)\n",
    "\n",
    "if 0 in Q:\n",
    "    Q.remove(0)\n",
    "\n",
    "def getPDQ(my_list):\n",
    "    break_index = next((i for i, (a, b) in enumerate(zip(my_list, my_list[1:]), start=1) if b != a + 1), None)\n",
    "    if break_index is not None:\n",
    "        return len(my_list[:break_index])\n",
    "    else:\n",
    "        return 0\n",
    "    \n",
    "p = getPDQ(P)\n",
    "q = getPDQ(Q)\n",
    "d = trend_diff\n",
    "\n",
    "new_df = pd.DataFrame({df.columns[1]: df.iloc[:, 1].values}, index=df.index)\n",
    "\n",
    "train_size = int(0.6 * len(new_df))\n",
    "train_df, test_df = new_df[:train_size], df[train_size:]\n",
    "\n",
    "arima_model = ARIMA(train_df[train_df.columns[0]], order=(p, d,q)).fit()"
   ]
  },
  {
   "cell_type": "code",
   "execution_count": 66,
   "metadata": {},
   "outputs": [
    {
     "data": {
      "text/plain": [
       "[[0, 2, 4, 6, 8, 10, 12, 14, 16, 18],\n",
       " [0, 2, 4],\n",
       " [0, 1, 2, 4, 6, 8, 10, 12, 14, 16, 18],\n",
       " [0, 1, 2, 3, 4, 7, 8, 11, 12, 13, 14, 15, 16, 17, 18, 19]]"
      ]
     },
     "execution_count": 66,
     "metadata": {},
     "output_type": "execute_result"
    }
   ],
   "source": [
    "lags_data"
   ]
  },
  {
   "cell_type": "code",
   "execution_count": 49,
   "metadata": {},
   "outputs": [],
   "source": []
  },
  {
   "cell_type": "code",
   "execution_count": 50,
   "metadata": {},
   "outputs": [
    {
     "data": {
      "text/plain": [
       "[1, 2, 3, 4, 7, 8, 11, 12, 13, 14, 15, 16, 17, 18, 19]"
      ]
     },
     "execution_count": 50,
     "metadata": {},
     "output_type": "execute_result"
    }
   ],
   "source": [
    "if 0 in P:\n",
    "    P.remove(0)\n",
    "\n",
    "if 0 in Q:\n",
    "    Q.remove(0)\n",
    "P"
   ]
  },
  {
   "cell_type": "code",
   "execution_count": 52,
   "metadata": {},
   "outputs": [
    {
     "name": "stdout",
     "output_type": "stream",
     "text": [
      "4\n"
     ]
    }
   ],
   "source": [
    "def getPDQ(my_list):\n",
    "    break_index = next((i for i, (a, b) in enumerate(zip(my_list, my_list[1:]), start=1) if b != a + 1), None)\n",
    "    if break_index is not None:\n",
    "        return len(my_list[:break_index])\n",
    "    else:\n",
    "        return 0\n",
    "getPDQ(P)"
   ]
  },
  {
   "cell_type": "code",
   "execution_count": 53,
   "metadata": {},
   "outputs": [
    {
     "name": "stdout",
     "output_type": "stream",
     "text": [
      "                Total Agricultural Revenues (in billion INR)\n",
      "Quarterly Year                                              \n",
      "2003-01-01                                            1610.2\n",
      "2003-04-01                                            1646.8\n",
      "2003-07-01                                            1485.0\n",
      "2003-10-01                                            1561.1\n",
      "2004-01-01                                            1697.5\n",
      "...                                                      ...\n",
      "2021-10-01                                            7528.2\n",
      "2022-01-01                                            8270.9\n",
      "2022-04-01                                            8568.2\n",
      "2022-07-01                                            7118.1\n",
      "2022-10-01                                            7613.1\n",
      "\n",
      "[80 rows x 1 columns]\n"
     ]
    }
   ],
   "source": [
    "new_df = pd.DataFrame({df.columns[1]: df.iloc[:, 1].values}, index=df.index)\n",
    "\n",
    "print(new_df)"
   ]
  },
  {
   "cell_type": "code",
   "execution_count": 54,
   "metadata": {},
   "outputs": [],
   "source": [
    "train_size = int(0.6 * len(new_df))\n",
    "train_df, test_df = new_df[:train_size], df[train_size:]"
   ]
  },
  {
   "cell_type": "code",
   "execution_count": 47,
   "metadata": {},
   "outputs": [],
   "source": [
    "import statsmodels.api as sm\n",
    "from statsmodels.tsa.arima.model import ARIMA"
   ]
  },
  {
   "cell_type": "code",
   "execution_count": 77,
   "metadata": {},
   "outputs": [
    {
     "name": "stderr",
     "output_type": "stream",
     "text": [
      "C:\\Users\\Lenovo\\AppData\\Local\\Packages\\PythonSoftwareFoundation.Python.3.9_qbz5n2kfra8p0\\LocalCache\\local-packages\\Python39\\site-packages\\statsmodels\\tsa\\base\\tsa_model.py:471: ValueWarning: No frequency information was provided, so inferred frequency QS-OCT will be used.\n",
      "  self._init_dates(dates, freq)\n",
      "C:\\Users\\Lenovo\\AppData\\Local\\Packages\\PythonSoftwareFoundation.Python.3.9_qbz5n2kfra8p0\\LocalCache\\local-packages\\Python39\\site-packages\\statsmodels\\tsa\\base\\tsa_model.py:471: ValueWarning: No frequency information was provided, so inferred frequency QS-OCT will be used.\n",
      "  self._init_dates(dates, freq)\n",
      "C:\\Users\\Lenovo\\AppData\\Local\\Packages\\PythonSoftwareFoundation.Python.3.9_qbz5n2kfra8p0\\LocalCache\\local-packages\\Python39\\site-packages\\statsmodels\\tsa\\base\\tsa_model.py:471: ValueWarning: No frequency information was provided, so inferred frequency QS-OCT will be used.\n",
      "  self._init_dates(dates, freq)\n",
      "C:\\Users\\Lenovo\\AppData\\Local\\Packages\\PythonSoftwareFoundation.Python.3.9_qbz5n2kfra8p0\\LocalCache\\local-packages\\Python39\\site-packages\\statsmodels\\tsa\\statespace\\sarimax.py:966: UserWarning: Non-stationary starting autoregressive parameters found. Using zeros as starting parameters.\n",
      "  warn('Non-stationary starting autoregressive parameters'\n",
      "C:\\Users\\Lenovo\\AppData\\Local\\Packages\\PythonSoftwareFoundation.Python.3.9_qbz5n2kfra8p0\\LocalCache\\local-packages\\Python39\\site-packages\\statsmodels\\base\\model.py:604: ConvergenceWarning: Maximum Likelihood optimization failed to converge. Check mle_retvals\n",
      "  warnings.warn(\"Maximum Likelihood optimization failed to \"\n"
     ]
    }
   ],
   "source": [
    "arima_model = ARIMA(df.iloc[:75,3], order=(4, 1, 2)).fit()"
   ]
  },
  {
   "cell_type": "code",
   "execution_count": 78,
   "metadata": {},
   "outputs": [
    {
     "data": {
      "text/html": [
       "<table class=\"simpletable\">\n",
       "<caption>SARIMAX Results</caption>\n",
       "<tr>\n",
       "  <th>Dep. Variable:</th>   <td>GDP Contribution Percentage from Agriculture</td> <th>  No. Observations:  </th>    <td>75</td>   \n",
       "</tr>\n",
       "<tr>\n",
       "  <th>Model:</th>                          <td>ARIMA(4, 1, 2)</td>                <th>  Log Likelihood     </th>  <td>69.786</td> \n",
       "</tr>\n",
       "<tr>\n",
       "  <th>Date:</th>                          <td>Thu, 16 Nov 2023</td>               <th>  AIC                </th> <td>-125.573</td>\n",
       "</tr>\n",
       "<tr>\n",
       "  <th>Time:</th>                              <td>03:04:13</td>                   <th>  BIC                </th> <td>-109.444</td>\n",
       "</tr>\n",
       "<tr>\n",
       "  <th>Sample:</th>                           <td>01-01-2003</td>                  <th>  HQIC               </th> <td>-119.139</td>\n",
       "</tr>\n",
       "<tr>\n",
       "  <th></th>                                 <td>- 07-01-2021</td>                 <th>                     </th>     <td> </td>   \n",
       "</tr>\n",
       "<tr>\n",
       "  <th>Covariance Type:</th>                      <td>opg</td>                     <th>                     </th>     <td> </td>   \n",
       "</tr>\n",
       "</table>\n",
       "<table class=\"simpletable\">\n",
       "<tr>\n",
       "     <td></td>       <th>coef</th>     <th>std err</th>      <th>z</th>      <th>P>|z|</th>  <th>[0.025</th>    <th>0.975]</th>  \n",
       "</tr>\n",
       "<tr>\n",
       "  <th>ar.L1</th>  <td>   -0.0536</td> <td>    0.063</td> <td>   -0.854</td> <td> 0.393</td> <td>   -0.177</td> <td>    0.069</td>\n",
       "</tr>\n",
       "<tr>\n",
       "  <th>ar.L2</th>  <td>   -0.1249</td> <td>    0.050</td> <td>   -2.486</td> <td> 0.013</td> <td>   -0.223</td> <td>   -0.026</td>\n",
       "</tr>\n",
       "<tr>\n",
       "  <th>ar.L3</th>  <td>   -0.0575</td> <td>    0.073</td> <td>   -0.791</td> <td> 0.429</td> <td>   -0.200</td> <td>    0.085</td>\n",
       "</tr>\n",
       "<tr>\n",
       "  <th>ar.L4</th>  <td>    0.8578</td> <td>    0.053</td> <td>   16.201</td> <td> 0.000</td> <td>    0.754</td> <td>    0.962</td>\n",
       "</tr>\n",
       "<tr>\n",
       "  <th>ma.L1</th>  <td>    0.0480</td> <td>    0.091</td> <td>    0.529</td> <td> 0.597</td> <td>   -0.130</td> <td>    0.226</td>\n",
       "</tr>\n",
       "<tr>\n",
       "  <th>ma.L2</th>  <td>    0.1630</td> <td>    0.147</td> <td>    1.109</td> <td> 0.268</td> <td>   -0.125</td> <td>    0.451</td>\n",
       "</tr>\n",
       "<tr>\n",
       "  <th>sigma2</th> <td>    0.0079</td> <td>    0.001</td> <td>    7.479</td> <td> 0.000</td> <td>    0.006</td> <td>    0.010</td>\n",
       "</tr>\n",
       "</table>\n",
       "<table class=\"simpletable\">\n",
       "<tr>\n",
       "  <th>Ljung-Box (L1) (Q):</th>     <td>0.05</td> <th>  Jarque-Bera (JB):  </th> <td>23.81</td>\n",
       "</tr>\n",
       "<tr>\n",
       "  <th>Prob(Q):</th>                <td>0.82</td> <th>  Prob(JB):          </th> <td>0.00</td> \n",
       "</tr>\n",
       "<tr>\n",
       "  <th>Heteroskedasticity (H):</th> <td>0.63</td> <th>  Skew:              </th> <td>-0.62</td>\n",
       "</tr>\n",
       "<tr>\n",
       "  <th>Prob(H) (two-sided):</th>    <td>0.26</td> <th>  Kurtosis:          </th> <td>5.49</td> \n",
       "</tr>\n",
       "</table><br/><br/>Warnings:<br/>[1] Covariance matrix calculated using the outer product of gradients (complex-step)."
      ],
      "text/plain": [
       "<class 'statsmodels.iolib.summary.Summary'>\n",
       "\"\"\"\n",
       "                                            SARIMAX Results                                             \n",
       "========================================================================================================\n",
       "Dep. Variable:     GDP Contribution Percentage from Agriculture   No. Observations:                   75\n",
       "Model:                                           ARIMA(4, 1, 2)   Log Likelihood                  69.786\n",
       "Date:                                          Thu, 16 Nov 2023   AIC                           -125.573\n",
       "Time:                                                  03:04:13   BIC                           -109.444\n",
       "Sample:                                              01-01-2003   HQIC                          -119.139\n",
       "                                                   - 07-01-2021                                         \n",
       "Covariance Type:                                            opg                                         \n",
       "==============================================================================\n",
       "                 coef    std err          z      P>|z|      [0.025      0.975]\n",
       "------------------------------------------------------------------------------\n",
       "ar.L1         -0.0536      0.063     -0.854      0.393      -0.177       0.069\n",
       "ar.L2         -0.1249      0.050     -2.486      0.013      -0.223      -0.026\n",
       "ar.L3         -0.0575      0.073     -0.791      0.429      -0.200       0.085\n",
       "ar.L4          0.8578      0.053     16.201      0.000       0.754       0.962\n",
       "ma.L1          0.0480      0.091      0.529      0.597      -0.130       0.226\n",
       "ma.L2          0.1630      0.147      1.109      0.268      -0.125       0.451\n",
       "sigma2         0.0079      0.001      7.479      0.000       0.006       0.010\n",
       "===================================================================================\n",
       "Ljung-Box (L1) (Q):                   0.05   Jarque-Bera (JB):                23.81\n",
       "Prob(Q):                              0.82   Prob(JB):                         0.00\n",
       "Heteroskedasticity (H):               0.63   Skew:                            -0.62\n",
       "Prob(H) (two-sided):                  0.26   Kurtosis:                         5.49\n",
       "===================================================================================\n",
       "\n",
       "Warnings:\n",
       "[1] Covariance matrix calculated using the outer product of gradients (complex-step).\n",
       "\"\"\""
      ]
     },
     "execution_count": 78,
     "metadata": {},
     "output_type": "execute_result"
    }
   ],
   "source": [
    "arima_model.summary()"
   ]
  },
  {
   "cell_type": "code",
   "execution_count": 79,
   "metadata": {},
   "outputs": [],
   "source": [
    "future_predictions = arima_model.forecast(6)"
   ]
  },
  {
   "cell_type": "code",
   "execution_count": null,
   "metadata": {},
   "outputs": [],
   "source": []
  },
  {
   "cell_type": "code",
   "execution_count": 80,
   "metadata": {},
   "outputs": [
    {
     "data": {
      "text/plain": [
       "2021-10-01    14.184411\n",
       "2022-01-01    14.511223\n",
       "2022-04-01    14.406905\n",
       "2022-07-01    13.840653\n",
       "2022-10-01    14.109191\n",
       "2023-01-01    14.451873\n",
       "Freq: QS-OCT, Name: predicted_mean, dtype: float64"
      ]
     },
     "execution_count": 80,
     "metadata": {},
     "output_type": "execute_result"
    }
   ],
   "source": [
    "future_predictions"
   ]
  },
  {
   "cell_type": "code",
   "execution_count": 64,
   "metadata": {},
   "outputs": [
    {
     "name": "stdout",
     "output_type": "stream",
     "text": [
      "ARIMA MSE: 7155888.503270988\n"
     ]
    }
   ],
   "source": [
    "from sklearn.metrics import mean_squared_error\n",
    "\n",
    "arima_predictions = arima_model.predict(start=len(train_df), end=len(df) - 1, typ='levels')\n",
    "\n",
    "arima_mse = mean_squared_error(test_df[test_df.columns[0]], arima_predictions)\n",
    "\n",
    "print(f\"ARIMA MSE: {arima_mse}\")\n"
   ]
  },
  {
   "cell_type": "code",
   "execution_count": 149,
   "metadata": {},
   "outputs": [
    {
     "name": "stdout",
     "output_type": "stream",
     "text": [
      "2014-10-01 00:00:00\n"
     ]
    },
    {
     "name": "stderr",
     "output_type": "stream",
     "text": [
      "C:\\Users\\Lenovo\\AppData\\Local\\Packages\\PythonSoftwareFoundation.Python.3.9_qbz5n2kfra8p0\\LocalCache\\local-packages\\Python39\\site-packages\\statsmodels\\tsa\\base\\tsa_model.py:471: ValueWarning: No frequency information was provided, so inferred frequency QS-OCT will be used.\n",
      "  self._init_dates(dates, freq)\n",
      "C:\\Users\\Lenovo\\AppData\\Local\\Packages\\PythonSoftwareFoundation.Python.3.9_qbz5n2kfra8p0\\LocalCache\\local-packages\\Python39\\site-packages\\statsmodels\\tsa\\base\\tsa_model.py:471: ValueWarning: No frequency information was provided, so inferred frequency QS-OCT will be used.\n",
      "  self._init_dates(dates, freq)\n",
      "C:\\Users\\Lenovo\\AppData\\Local\\Packages\\PythonSoftwareFoundation.Python.3.9_qbz5n2kfra8p0\\LocalCache\\local-packages\\Python39\\site-packages\\statsmodels\\tsa\\base\\tsa_model.py:471: ValueWarning: No frequency information was provided, so inferred frequency QS-OCT will be used.\n",
      "  self._init_dates(dates, freq)\n",
      "C:\\Users\\Lenovo\\AppData\\Local\\Packages\\PythonSoftwareFoundation.Python.3.9_qbz5n2kfra8p0\\LocalCache\\local-packages\\Python39\\site-packages\\statsmodels\\tsa\\statespace\\sarimax.py:966: UserWarning: Non-stationary starting autoregressive parameters found. Using zeros as starting parameters.\n",
      "  warn('Non-stationary starting autoregressive parameters'\n",
      "C:\\Users\\Lenovo\\AppData\\Local\\Packages\\PythonSoftwareFoundation.Python.3.9_qbz5n2kfra8p0\\LocalCache\\local-packages\\Python39\\site-packages\\statsmodels\\base\\model.py:604: ConvergenceWarning: Maximum Likelihood optimization failed to converge. Check mle_retvals\n",
      "  warnings.warn(\"Maximum Likelihood optimization failed to \"\n"
     ]
    },
    {
     "data": {
      "text/plain": [
       "2300.889"
      ]
     },
     "execution_count": 149,
     "metadata": {},
     "output_type": "execute_result"
    }
   ],
   "source": [
    "import pandas as pd\n",
    "from statsmodels.tsa.stattools import adfuller, acf, pacf\n",
    "from statsmodels.tsa.arima.model import ARIMA\n",
    "from datetime import datetime\n",
    "from datetime import datetime\n",
    "from dateutil.relativedelta import relativedelta\n",
    "import matplotlib.pyplot as plt \n",
    "\n",
    "\n",
    "class ARIMAModel:\n",
    "    def __init__(self, file, column_index):\n",
    "        self.dataframe = self.process_dataset(file)\n",
    "        self.column_index = column_index\n",
    "\n",
    "    def process_dataset(self, file):\n",
    "        df = pd.read_csv(file)\n",
    "        df.iloc[:, 0] = pd.to_datetime(df.iloc[:, 0])\n",
    "        for i in range(1, 5):\n",
    "            if df.iloc[:, i].dtype == 'object':\n",
    "                df.iloc[:, i] = df.iloc[:, i].str.replace(',', '')\n",
    "            df.iloc[:, i] = df.iloc[:, i].astype(float)\n",
    "        df.set_index(df.columns[0], inplace=True)\n",
    "        return df\n",
    "\n",
    "    def stationarity_tests(self, timeseries):\n",
    "        result_adf_trend = adfuller(timeseries, autolag='AIC')\n",
    "        adf_pvalue_trend = result_adf_trend[1]\n",
    "\n",
    "        num_diff_trend = 0\n",
    "        while adf_pvalue_trend > 0.05:\n",
    "            timeseries = timeseries.diff().dropna()\n",
    "            result_adf_trend = adfuller(timeseries, autolag='AIC')\n",
    "            adf_pvalue_trend = result_adf_trend[1]\n",
    "            num_diff_trend += 1\n",
    "\n",
    "        return timeseries, num_diff_trend\n",
    "\n",
    "    def print_acf_pacf_lags(self, timeseries, trend_diff):\n",
    "        acf_orig = acf(timeseries, fft=True, nlags=20)\n",
    "        pacf_orig = pacf(timeseries, nlags=20)\n",
    "\n",
    "        acf_diff_trend = acf(timeseries.diff().dropna(), fft=True, nlags=20)\n",
    "        pacf_diff_trend = pacf(timeseries.diff().dropna(), nlags=20)\n",
    "\n",
    "        def find_significant_lags(acf_values):\n",
    "            conf_interval = 1.96 / len(timeseries)**0.5\n",
    "            return [i for i, val in enumerate(acf_values) if abs(val) > conf_interval]\n",
    "\n",
    "        return [find_significant_lags(acf_orig), find_significant_lags(pacf_orig),\n",
    "                find_significant_lags(acf_diff_trend), find_significant_lags(pacf_diff_trend)]\n",
    "\n",
    "    def get_PDQ(self, my_list):\n",
    "        break_index = next((i for i, (a, b) in enumerate(zip(my_list, my_list[1:]), start=1) if b != a + 1), None)\n",
    "        if break_index is not None:\n",
    "            return len(my_list[:break_index])\n",
    "        else:\n",
    "            return 0\n",
    "\n",
    "    def train_arima_model(self):\n",
    "        timeseries, trend_diff = self.stationarity_tests(self.dataframe.iloc[:, self.column_index])\n",
    "        lags_data = self.print_acf_pacf_lags(timeseries, trend_diff)\n",
    "\n",
    "        P = []\n",
    "        Q = []\n",
    "\n",
    "        if trend_diff != 0:\n",
    "            P = lags_data[3]\n",
    "            Q = lags_data[2]\n",
    "        else:\n",
    "            P = lags_data[1]\n",
    "            Q = lags_data[0]\n",
    "\n",
    "        if 0 in P:\n",
    "            P.remove(0)\n",
    "\n",
    "        if 0 in Q:\n",
    "            Q.remove(0)\n",
    "\n",
    "        p = self.get_PDQ(P)\n",
    "        q = self.get_PDQ(Q)\n",
    "        d = trend_diff\n",
    "\n",
    "        new_df = pd.DataFrame({self.dataframe.columns[self.column_index]: self.dataframe.iloc[:, self.column_index].values},\n",
    "                              index=self.dataframe.index)\n",
    "        \n",
    "        train_size = int(0.6 * len(new_df))\n",
    "        train_df, _ = new_df[:train_size], new_df[train_size:]\n",
    "        print(train_df.index[-1])\n",
    "\n",
    "        arima_model = ARIMA(train_df[train_df.columns[0]], order=(p, d, q)).fit()\n",
    "\n",
    "        return arima_model\n",
    "\n",
    "    def convert_to_datetime(self, year, quarter):\n",
    "        # Map quarter to the corresponding month\n",
    "        year = int(year)\n",
    "        quarter = int(quarter[-1])\n",
    "        month = (quarter - 1) * 3 + 1\n",
    "        \n",
    "        # Create a datetime object for the first day of the quarter\n",
    "        datetime_object = datetime(year, month, 1, 0, 0, 0)\n",
    "        \n",
    "        return datetime_object\n",
    "\n",
    "    def calculate_month_difference(self, datetime1, datetime2):\n",
    "        difference = relativedelta(datetime2, datetime1)\n",
    "        months_difference = difference.years * 12 + difference.months\n",
    "        return months_difference\n",
    "    \n",
    "    def forecast_data(self, year, quarter):\n",
    "        datetime2 = self.convert_to_datetime(year, quarter)\n",
    "        result = int(self.calculate_month_difference(train_df.index[-1], datetime2)/3)\n",
    "        future_predictions = trained_model.forecast(result)\n",
    "        value = future_predictions.iloc[-1]\n",
    "        present_value = self.dataframe[self.dataframe.columns[self.column_index]][-1]\n",
    "        perc_change = ((value - present_value) / present_value) * 100\n",
    "        if perc_change > 0:\n",
    "            perc_change = f\"+{perc_change:.2f}%\"\n",
    "        else:\n",
    "            perc_change = f\"{perc_change:.2f}%\"\n",
    "        return value.round(3), perc_change\n",
    "    \n",
    "    def plot_data_with_prediction(self, target_index, xl, yl, year, quarter, predicted_value):\n",
    "        # Use a dark theme\n",
    "        plt.style.use('dark_background')\n",
    "\n",
    "        # Plot historical data\n",
    "        plt.figure(figsize=(10, 6))\n",
    "        plt.plot(self.dataframe.index, self.dataframe[self.dataframe.columns[target_index]], label='Historical Data', marker='o', color='lightblue', linestyle='-')\n",
    "\n",
    "        future_date = self.convert_to_datetime(year, quarter)\n",
    "\n",
    "        plt.scatter(future_date, predicted_value, color='red', label='Predicted Future Value', zorder=5)\n",
    "\n",
    "        # Annotate the predicted value on the plot\n",
    "        plt.text(future_date, predicted_value, f'{predicted_value:.2f}', color='red', ha='left', va='bottom', fontsize=10, bbox=dict(facecolor='black', edgecolor='none', boxstyle='round,pad=0.3'))\n",
    "\n",
    "        # Customize plot aesthetics\n",
    "        plt.title(xl, fontsize=14, color='white')\n",
    "        plt.xlabel('Year', fontsize=12, color='white')\n",
    "        plt.ylabel(yl, fontsize=12, color='white')\n",
    "        plt.legend(fontsize=10)\n",
    "        plt.grid(True, color='gray', linestyle='--', alpha=0.5)\n",
    "\n",
    "        # Customize tick parameters\n",
    "        plt.tick_params(axis='both', which='both', colors='white')\n",
    "        return plt.gcf()\n",
    "\n",
    "    def create_and_save_plot(self, target_index, xl, yl, save_path, year, quarter, predicted_value):\n",
    "        plot = self.plot_data_with_prediction(target_index, xl, yl, year=year, quarter=quarter, predicted_value=predicted_value)\n",
    "        plot.savefig(save_path)\n",
    "        plt.close() \n",
    "\n",
    "arima_model_instance = ARIMAModel(\"./Datasets/Agriculture/Agriculture Overall.csv\", 1)\n",
    "trained_model = arima_model_instance.train_arima_model()\n",
    "forec, change= arima_model_instance.forecast_data('2015', 'Q3')\n",
    "forec"
   ]
  },
  {
   "cell_type": "code",
   "execution_count": 150,
   "metadata": {},
   "outputs": [
    {
     "data": {
      "text/plain": [
       "'-69.78%'"
      ]
     },
     "execution_count": 150,
     "metadata": {},
     "output_type": "execute_result"
    }
   ],
   "source": [
    "change"
   ]
  },
  {
   "cell_type": "code",
   "execution_count": 110,
   "metadata": {},
   "outputs": [],
   "source": [
    "forec = arima_model_instance.forecast_data('2015', 'Q3')"
   ]
  },
  {
   "cell_type": "code",
   "execution_count": null,
   "metadata": {},
   "outputs": [],
   "source": []
  },
  {
   "cell_type": "code",
   "execution_count": 112,
   "metadata": {},
   "outputs": [],
   "source": []
  },
  {
   "cell_type": "code",
   "execution_count": 113,
   "metadata": {},
   "outputs": [
    {
     "data": {
      "text/plain": [
       "7613.1"
      ]
     },
     "execution_count": 113,
     "metadata": {},
     "output_type": "execute_result"
    }
   ],
   "source": [
    "y1"
   ]
  },
  {
   "cell_type": "code",
   "execution_count": 90,
   "metadata": {},
   "outputs": [],
   "source": [
    "from datetime import datetime\n",
    "\n",
    "def convert_to_datetime(year, quarter):\n",
    "    # Map quarter to the corresponding month\n",
    "    year = int(year)\n",
    "    quarter = int(quarter[-1])\n",
    "    month = (quarter - 1) * 3 + 1\n",
    "    \n",
    "    # Create a datetime object for the first day of the quarter\n",
    "    datetime_object = datetime(year, month, 1, 0, 0, 0)\n",
    "    \n",
    "    return datetime_object\n"
   ]
  },
  {
   "cell_type": "code",
   "execution_count": 89,
   "metadata": {},
   "outputs": [
    {
     "name": "stdout",
     "output_type": "stream",
     "text": [
      "2014-01-01 00:00:00\n"
     ]
    }
   ],
   "source": [
    "print(datetime_result)"
   ]
  },
  {
   "cell_type": "code",
   "execution_count": 105,
   "metadata": {},
   "outputs": [],
   "source": [
    "from datetime import datetime\n",
    "from dateutil.relativedelta import relativedelta\n",
    "\n",
    "def calculate_month_difference(datetime1, datetime2):\n",
    "    \"\"\"\n",
    "    Calculate the difference in months between two datetime objects.\n",
    "    \n",
    "    Parameters:\n",
    "    - datetime1: The first datetime object.\n",
    "    - datetime2: The second datetime object.\n",
    "    \n",
    "    Returns:\n",
    "    - The difference in months as an integer.\n",
    "    \"\"\"\n",
    "    difference = relativedelta(datetime2, datetime1)\n",
    "    months_difference = difference.years * 12 + difference.months\n",
    "    return months_difference\n",
    "\n",
    "\n",
    "datetime2 = convert_to_datetime('2015', 'Q3')\n",
    "result = int(calculate_month_difference(train_df.index[-1], datetime2)/3)\n"
   ]
  },
  {
   "cell_type": "code",
   "execution_count": 106,
   "metadata": {},
   "outputs": [],
   "source": [
    "def forecast_data(year, quarter):\n",
    "    datetime2 = convert_to_datetime(year, quarter)\n",
    "    result = int(calculate_month_difference(train_df.index[-1], datetime2)/3)\n",
    "    future_predictions = trained_model.forecast(result)\n",
    "    value = future_predictions.iloc[-1]\n",
    "    return value.round(3)"
   ]
  },
  {
   "cell_type": "code",
   "execution_count": 107,
   "metadata": {},
   "outputs": [],
   "source": []
  },
  {
   "cell_type": "code",
   "execution_count": 108,
   "metadata": {},
   "outputs": [
    {
     "data": {
      "text/plain": [
       "15.051718758054449"
      ]
     },
     "execution_count": 108,
     "metadata": {},
     "output_type": "execute_result"
    }
   ],
   "source": []
  },
  {
   "cell_type": "code",
   "execution_count": 98,
   "metadata": {},
   "outputs": [
    {
     "name": "stdout",
     "output_type": "stream",
     "text": [
      "2015-01-01    2580.047418\n",
      "Freq: QS-OCT, dtype: float64\n"
     ]
    }
   ],
   "source": [
    "print(future_predictions)"
   ]
  },
  {
   "cell_type": "code",
   "execution_count": 91,
   "metadata": {},
   "outputs": [
    {
     "data": {
      "text/plain": [
       "Timestamp('2014-10-01 00:00:00')"
      ]
     },
     "execution_count": 91,
     "metadata": {},
     "output_type": "execute_result"
    }
   ],
   "source": []
  },
  {
   "cell_type": "code",
   "execution_count": 94,
   "metadata": {},
   "outputs": [],
   "source": [
    "from datetime import datetime\n",
    "from dateutil.relativedelta import relativedelta\n",
    "\n",
    "def calculate_month_difference(datetime1, datetime2):\n",
    "    \"\"\"\n",
    "    Calculate the difference in months between two datetime objects.\n",
    "    \n",
    "    Parameters:\n",
    "    - datetime1: The first datetime object.\n",
    "    - datetime2: The second datetime object.\n",
    "    \n",
    "    Returns:\n",
    "    - The difference in months as an integer.\n",
    "    \"\"\"\n",
    "    difference = relativedelta(datetime2, datetime1)\n",
    "    months_difference = difference.years * 12 + difference.months\n",
    "    return months_difference\n",
    "\n",
    "\n",
    "datetime2 = convert_to_datetime('2015', 'Q1')\n",
    "result = int(calculate_month_difference(train_df.index[-1], datetime2)/3)\n"
   ]
  },
  {
   "cell_type": "code",
   "execution_count": 78,
   "metadata": {},
   "outputs": [
    {
     "name": "stdout",
     "output_type": "stream",
     "text": [
      "The difference is approximately 3332 days, 12:00:00 quarters.\n"
     ]
    }
   ],
   "source": [
    "from datetime import datetime\n",
    "\n",
    "# Define two datetime objects\n",
    "datetime1 = datetime(2014, 10, 1, 0, 0, 0)\n",
    "datetime2 = datetime(2023, 11, 15, 12, 0, 0)\n",
    "\n",
    "# Calculate the difference between the two datetimes\n",
    "time_difference = datetime2 - datetime1\n",
    "\n",
    "\n",
    "\n",
    "# Print the result\n",
    "print(f'The difference is approximately {time_difference} quarters.')\n"
   ]
  },
  {
   "cell_type": "markdown",
   "metadata": {},
   "source": [
    "## Testing For Regression Model"
   ]
  },
  {
   "cell_type": "code",
   "execution_count": 1,
   "metadata": {},
   "outputs": [],
   "source": [
    "import pandas as pd"
   ]
  },
  {
   "cell_type": "code",
   "execution_count": 216,
   "metadata": {},
   "outputs": [],
   "source": [
    "file = 'Datasets/Agriculture/Agriculture_sector.csv'"
   ]
  },
  {
   "cell_type": "code",
   "execution_count": 217,
   "metadata": {},
   "outputs": [],
   "source": [
    "df = pd.read_csv(file)"
   ]
  },
  {
   "cell_type": "code",
   "execution_count": 218,
   "metadata": {},
   "outputs": [
    {
     "data": {
      "text/html": [
       "<div>\n",
       "<style scoped>\n",
       "    .dataframe tbody tr th:only-of-type {\n",
       "        vertical-align: middle;\n",
       "    }\n",
       "\n",
       "    .dataframe tbody tr th {\n",
       "        vertical-align: top;\n",
       "    }\n",
       "\n",
       "    .dataframe thead th {\n",
       "        text-align: right;\n",
       "    }\n",
       "</style>\n",
       "<table border=\"1\" class=\"dataframe\">\n",
       "  <thead>\n",
       "    <tr style=\"text-align: right;\">\n",
       "      <th></th>\n",
       "      <th>Quarterly Year</th>\n",
       "      <th>Total Agricultural Production (in million tonnes)</th>\n",
       "      <th>Total Agricultural Revenues (in billion INR)</th>\n",
       "      <th>Employment (in million people)</th>\n",
       "      <th>GDP Contribution Percentage from Agriculture</th>\n",
       "    </tr>\n",
       "  </thead>\n",
       "  <tbody>\n",
       "    <tr>\n",
       "      <th>0</th>\n",
       "      <td>2003-Q1</td>\n",
       "      <td>92.17</td>\n",
       "      <td>1,610.20</td>\n",
       "      <td>54.2</td>\n",
       "      <td>18.4</td>\n",
       "    </tr>\n",
       "    <tr>\n",
       "      <th>1</th>\n",
       "      <td>2003-Q2</td>\n",
       "      <td>94.55</td>\n",
       "      <td>1,646.80</td>\n",
       "      <td>54.3</td>\n",
       "      <td>18.2</td>\n",
       "    </tr>\n",
       "    <tr>\n",
       "      <th>2</th>\n",
       "      <td>2003-Q3</td>\n",
       "      <td>81.16</td>\n",
       "      <td>1,485.00</td>\n",
       "      <td>54.4</td>\n",
       "      <td>17.9</td>\n",
       "    </tr>\n",
       "    <tr>\n",
       "      <th>3</th>\n",
       "      <td>2003-Q4</td>\n",
       "      <td>86.77</td>\n",
       "      <td>1,561.10</td>\n",
       "      <td>54.5</td>\n",
       "      <td>18.1</td>\n",
       "    </tr>\n",
       "    <tr>\n",
       "      <th>4</th>\n",
       "      <td>2004-Q1</td>\n",
       "      <td>95.21</td>\n",
       "      <td>1,697.50</td>\n",
       "      <td>54.6</td>\n",
       "      <td>18.3</td>\n",
       "    </tr>\n",
       "  </tbody>\n",
       "</table>\n",
       "</div>"
      ],
      "text/plain": [
       "  Quarterly Year  Total Agricultural Production (in million tonnes)  \\\n",
       "0        2003-Q1                                              92.17   \n",
       "1        2003-Q2                                              94.55   \n",
       "2        2003-Q3                                              81.16   \n",
       "3        2003-Q4                                              86.77   \n",
       "4        2004-Q1                                              95.21   \n",
       "\n",
       "  Total Agricultural Revenues (in billion INR)  \\\n",
       "0                                     1,610.20   \n",
       "1                                     1,646.80   \n",
       "2                                     1,485.00   \n",
       "3                                     1,561.10   \n",
       "4                                     1,697.50   \n",
       "\n",
       "   Employment (in million people)  \\\n",
       "0                            54.2   \n",
       "1                            54.3   \n",
       "2                            54.4   \n",
       "3                            54.5   \n",
       "4                            54.6   \n",
       "\n",
       "   GDP Contribution Percentage from Agriculture  \n",
       "0                                          18.4  \n",
       "1                                          18.2  \n",
       "2                                          17.9  \n",
       "3                                          18.1  \n",
       "4                                          18.3  "
      ]
     },
     "execution_count": 218,
     "metadata": {},
     "output_type": "execute_result"
    }
   ],
   "source": [
    "df.head()"
   ]
  },
  {
   "cell_type": "code",
   "execution_count": 219,
   "metadata": {},
   "outputs": [],
   "source": [
    "df.iloc[:, 0] = pd.to_datetime(df.iloc[:, 0])"
   ]
  },
  {
   "cell_type": "code",
   "execution_count": 220,
   "metadata": {},
   "outputs": [],
   "source": [
    "for i in range(1, 5):\n",
    "    if df.iloc[:, i].dtype == 'object':\n",
    "        df.iloc[:, i] = df.iloc[:, i].str.replace(',', '')\n",
    "    df.iloc[:, i] = df.iloc[:, i].astype(float)"
   ]
  },
  {
   "cell_type": "code",
   "execution_count": 39,
   "metadata": {},
   "outputs": [],
   "source": [
    "df.set_index(df.columns[0], inplace=True)"
   ]
  },
  {
   "cell_type": "code",
   "execution_count": 154,
   "metadata": {},
   "outputs": [
    {
     "data": {
      "text/html": [
       "<div>\n",
       "<style scoped>\n",
       "    .dataframe tbody tr th:only-of-type {\n",
       "        vertical-align: middle;\n",
       "    }\n",
       "\n",
       "    .dataframe tbody tr th {\n",
       "        vertical-align: top;\n",
       "    }\n",
       "\n",
       "    .dataframe thead th {\n",
       "        text-align: right;\n",
       "    }\n",
       "</style>\n",
       "<table border=\"1\" class=\"dataframe\">\n",
       "  <thead>\n",
       "    <tr style=\"text-align: right;\">\n",
       "      <th></th>\n",
       "      <th>Total Agricultural Revenues (in billion INR)</th>\n",
       "    </tr>\n",
       "    <tr>\n",
       "      <th>Quarterly Year</th>\n",
       "      <th></th>\n",
       "    </tr>\n",
       "  </thead>\n",
       "  <tbody>\n",
       "    <tr>\n",
       "      <th>2003-01-01</th>\n",
       "      <td>1610.2</td>\n",
       "    </tr>\n",
       "    <tr>\n",
       "      <th>2003-04-01</th>\n",
       "      <td>1646.8</td>\n",
       "    </tr>\n",
       "    <tr>\n",
       "      <th>2003-07-01</th>\n",
       "      <td>1485.0</td>\n",
       "    </tr>\n",
       "    <tr>\n",
       "      <th>2003-10-01</th>\n",
       "      <td>1561.1</td>\n",
       "    </tr>\n",
       "    <tr>\n",
       "      <th>2004-01-01</th>\n",
       "      <td>1697.5</td>\n",
       "    </tr>\n",
       "  </tbody>\n",
       "</table>\n",
       "</div>"
      ],
      "text/plain": [
       "                Total Agricultural Revenues (in billion INR)\n",
       "Quarterly Year                                              \n",
       "2003-01-01                                            1610.2\n",
       "2003-04-01                                            1646.8\n",
       "2003-07-01                                            1485.0\n",
       "2003-10-01                                            1561.1\n",
       "2004-01-01                                            1697.5"
      ]
     },
     "execution_count": 154,
     "metadata": {},
     "output_type": "execute_result"
    }
   ],
   "source": [
    "df.iloc[:, 1:2].head()\n"
   ]
  },
  {
   "cell_type": "code",
   "execution_count": 175,
   "metadata": {},
   "outputs": [],
   "source": [
    "# Import necessary libraries\n",
    "\n"
   ]
  },
  {
   "cell_type": "code",
   "execution_count": 178,
   "metadata": {},
   "outputs": [],
   "source": [
    "\n",
    "\n",
    "\n"
   ]
  },
  {
   "cell_type": "code",
   "execution_count": 180,
   "metadata": {},
   "outputs": [],
   "source": []
  },
  {
   "cell_type": "code",
   "execution_count": 182,
   "metadata": {},
   "outputs": [
    {
     "data": {
      "text/plain": [
       "0     1610.2\n",
       "1     1646.8\n",
       "2     1485.0\n",
       "3     1561.1\n",
       "4     1697.5\n",
       "       ...  \n",
       "75    7528.2\n",
       "76    8270.9\n",
       "77    8568.2\n",
       "78    7118.1\n",
       "79    7613.1\n",
       "Name: Total Agricultural Revenues (in billion INR), Length: 80, dtype: float64"
      ]
     },
     "execution_count": 182,
     "metadata": {},
     "output_type": "execute_result"
    }
   ],
   "source": [
    "y"
   ]
  },
  {
   "cell_type": "code",
   "execution_count": 183,
   "metadata": {},
   "outputs": [
    {
     "data": {
      "text/html": [
       "<style>#sk-container-id-1 {color: black;background-color: white;}#sk-container-id-1 pre{padding: 0;}#sk-container-id-1 div.sk-toggleable {background-color: white;}#sk-container-id-1 label.sk-toggleable__label {cursor: pointer;display: block;width: 100%;margin-bottom: 0;padding: 0.3em;box-sizing: border-box;text-align: center;}#sk-container-id-1 label.sk-toggleable__label-arrow:before {content: \"▸\";float: left;margin-right: 0.25em;color: #696969;}#sk-container-id-1 label.sk-toggleable__label-arrow:hover:before {color: black;}#sk-container-id-1 div.sk-estimator:hover label.sk-toggleable__label-arrow:before {color: black;}#sk-container-id-1 div.sk-toggleable__content {max-height: 0;max-width: 0;overflow: hidden;text-align: left;background-color: #f0f8ff;}#sk-container-id-1 div.sk-toggleable__content pre {margin: 0.2em;color: black;border-radius: 0.25em;background-color: #f0f8ff;}#sk-container-id-1 input.sk-toggleable__control:checked~div.sk-toggleable__content {max-height: 200px;max-width: 100%;overflow: auto;}#sk-container-id-1 input.sk-toggleable__control:checked~label.sk-toggleable__label-arrow:before {content: \"▾\";}#sk-container-id-1 div.sk-estimator input.sk-toggleable__control:checked~label.sk-toggleable__label {background-color: #d4ebff;}#sk-container-id-1 div.sk-label input.sk-toggleable__control:checked~label.sk-toggleable__label {background-color: #d4ebff;}#sk-container-id-1 input.sk-hidden--visually {border: 0;clip: rect(1px 1px 1px 1px);clip: rect(1px, 1px, 1px, 1px);height: 1px;margin: -1px;overflow: hidden;padding: 0;position: absolute;width: 1px;}#sk-container-id-1 div.sk-estimator {font-family: monospace;background-color: #f0f8ff;border: 1px dotted black;border-radius: 0.25em;box-sizing: border-box;margin-bottom: 0.5em;}#sk-container-id-1 div.sk-estimator:hover {background-color: #d4ebff;}#sk-container-id-1 div.sk-parallel-item::after {content: \"\";width: 100%;border-bottom: 1px solid gray;flex-grow: 1;}#sk-container-id-1 div.sk-label:hover label.sk-toggleable__label {background-color: #d4ebff;}#sk-container-id-1 div.sk-serial::before {content: \"\";position: absolute;border-left: 1px solid gray;box-sizing: border-box;top: 0;bottom: 0;left: 50%;z-index: 0;}#sk-container-id-1 div.sk-serial {display: flex;flex-direction: column;align-items: center;background-color: white;padding-right: 0.2em;padding-left: 0.2em;position: relative;}#sk-container-id-1 div.sk-item {position: relative;z-index: 1;}#sk-container-id-1 div.sk-parallel {display: flex;align-items: stretch;justify-content: center;background-color: white;position: relative;}#sk-container-id-1 div.sk-item::before, #sk-container-id-1 div.sk-parallel-item::before {content: \"\";position: absolute;border-left: 1px solid gray;box-sizing: border-box;top: 0;bottom: 0;left: 50%;z-index: -1;}#sk-container-id-1 div.sk-parallel-item {display: flex;flex-direction: column;z-index: 1;position: relative;background-color: white;}#sk-container-id-1 div.sk-parallel-item:first-child::after {align-self: flex-end;width: 50%;}#sk-container-id-1 div.sk-parallel-item:last-child::after {align-self: flex-start;width: 50%;}#sk-container-id-1 div.sk-parallel-item:only-child::after {width: 0;}#sk-container-id-1 div.sk-dashed-wrapped {border: 1px dashed gray;margin: 0 0.4em 0.5em 0.4em;box-sizing: border-box;padding-bottom: 0.4em;background-color: white;}#sk-container-id-1 div.sk-label label {font-family: monospace;font-weight: bold;display: inline-block;line-height: 1.2em;}#sk-container-id-1 div.sk-label-container {text-align: center;}#sk-container-id-1 div.sk-container {/* jupyter's `normalize.less` sets `[hidden] { display: none; }` but bootstrap.min.css set `[hidden] { display: none !important; }` so we also need the `!important` here to be able to override the default hidden behavior on the sphinx rendered scikit-learn.org. See: https://github.com/scikit-learn/scikit-learn/issues/21755 */display: inline-block !important;position: relative;}#sk-container-id-1 div.sk-text-repr-fallback {display: none;}</style><div id=\"sk-container-id-1\" class=\"sk-top-container\"><div class=\"sk-text-repr-fallback\"><pre>RandomForestRegressor(random_state=42)</pre><b>In a Jupyter environment, please rerun this cell to show the HTML representation or trust the notebook. <br />On GitHub, the HTML representation is unable to render, please try loading this page with nbviewer.org.</b></div><div class=\"sk-container\" hidden><div class=\"sk-item\"><div class=\"sk-estimator sk-toggleable\"><input class=\"sk-toggleable__control sk-hidden--visually\" id=\"sk-estimator-id-1\" type=\"checkbox\" checked><label for=\"sk-estimator-id-1\" class=\"sk-toggleable__label sk-toggleable__label-arrow\">RandomForestRegressor</label><div class=\"sk-toggleable__content\"><pre>RandomForestRegressor(random_state=42)</pre></div></div></div></div></div>"
      ],
      "text/plain": [
       "RandomForestRegressor(random_state=42)"
      ]
     },
     "execution_count": 183,
     "metadata": {},
     "output_type": "execute_result"
    }
   ],
   "source": [
    "# Train the model using all available data\n",
    "\n"
   ]
  },
  {
   "cell_type": "code",
   "execution_count": 184,
   "metadata": {},
   "outputs": [
    {
     "name": "stdout",
     "output_type": "stream",
     "text": [
      "Predicted Value for 2022-07-01: 7210.744999999991\n"
     ]
    }
   ],
   "source": [
    "import pandas as pd\n",
    "from sklearn.ensemble import RandomForestRegressor\n",
    "from sklearn.metrics import mean_squared_error\n",
    "from datetime import datetime, timedelta\n",
    "\n",
    "# Convert the 'Quarterly Year' column to datetime\n",
    "df['Quarterly Year'] = pd.to_datetime(df['Quarterly Year'])\n",
    "\n",
    "# Extract year and quarter to use as features\n",
    "df['Year'] = df['Quarterly Year'].dt.year\n",
    "df['Quarter'] = df['Quarterly Year'].dt.quarter\n",
    "\n",
    "# Create a lag feature to use past values\n",
    "df['Lag_Value'] = df['Total Agricultural Revenues (in billion INR)'].shift(1)\n",
    "\n",
    "# Features and target variable\n",
    "features = ['Year', 'Quarter', 'Lag_Value']\n",
    "target = 'Total Agricultural Revenues (in billion INR)'\n",
    "\n",
    "# Split the data into features and target variable\n",
    "X = df[features]\n",
    "y = df[target]\n",
    "\n",
    "# Create a Random Forest Regressor\n",
    "rf_model = RandomForestRegressor(n_estimators=100, random_state=42)\n",
    "X =X.fillna(0)\n",
    "rf_model.fit(X, y)\n",
    "future_data = pd.DataFrame({'Year': [2022], 'Quarter': [3], 'Lag_Value': [df.iloc[-1]['Total Agricultural Revenues (in billion INR)']]})\n",
    "predicted_value = rf_model.predict(future_data)\n",
    "print(f'Predicted Value for 2022-07-01: {predicted_value[0]}')"
   ]
  },
  {
   "cell_type": "code",
   "execution_count": null,
   "metadata": {},
   "outputs": [],
   "source": [
    "df['Total Agricultural Revenues (in billion INR)']"
   ]
  },
  {
   "cell_type": "code",
   "execution_count": 43,
   "metadata": {},
   "outputs": [],
   "source": [
    "from sklearn.linear_model import LinearRegression\n",
    "import numpy as np"
   ]
  },
  {
   "cell_type": "code",
   "execution_count": 72,
   "metadata": {},
   "outputs": [
    {
     "name": "stdout",
     "output_type": "stream",
     "text": [
      "Predicted value for 2003-01-01 00:00:00: 3539.1284056415057\n"
     ]
    }
   ],
   "source": [
    "model = LinearRegression()\n",
    "\n",
    "# Prepare the data\n",
    "X = np.array(df.index).astype(int)  # Convert datetime to numerical\n",
    "X = X.reshape(-1, 1)\n",
    "y = df['Total Agricultural Revenues (in billion INR)'].values\n",
    "\n",
    "# Fit the model\n",
    "model.fit(X, y)\n",
    "\n",
    "# Predict the value for a future date, for example, '2020-04-01'\n",
    "future_date = pd.to_datetime('2003-01-01')\n",
    "future_date_numeric = np.array([future_date.timestamp()]).astype(int).reshape(-1, 1)\n",
    "predicted_value = model.predict(future_date_numeric)[0]\n",
    "\n",
    "print(f'Predicted value for {future_date}: {predicted_value}')"
   ]
  },
  {
   "cell_type": "code",
   "execution_count": 53,
   "metadata": {},
   "outputs": [],
   "source": [
    "quarter_to_month = {1: 1, 2: 4, 3: 7, 4: 10}"
   ]
  },
  {
   "cell_type": "code",
   "execution_count": 54,
   "metadata": {},
   "outputs": [],
   "source": [
    "from datetime import datetime\n",
    "import re\n",
    "\n",
    "def convert_quarter_to_date(quarter_str):\n",
    "    # Extract year and quarter from the input string\n",
    "    match = re.match(r'(\\d+)-Q(\\d+)', quarter_str)\n",
    "    \n",
    "    if match:\n",
    "        year = int(match.group(1))\n",
    "        quarter = int(match.group(2))\n",
    "        \n",
    "        # Calculate the month and day based on the quarter\n",
    "        month = (quarter - 1) * 3 + 1\n",
    "        \n",
    "        # Create a datetime object\n",
    "        date_object = datetime(year, month, 1)\n",
    "        \n",
    "        # Format the datetime object as a string\n",
    "        result_str = date_object.strftime('%Y-%m-%d')\n",
    "        \n",
    "        return result_str\n",
    "\n",
    "    else:\n",
    "        raise ValueError(\"Invalid input format. Please use the format 'YYYY-QX'.\")\n"
   ]
  },
  {
   "cell_type": "code",
   "execution_count": 56,
   "metadata": {},
   "outputs": [
    {
     "name": "stdout",
     "output_type": "stream",
     "text": [
      "Predicted value for 2003-01-01 00:00:00: 115.48043752456533\n"
     ]
    }
   ],
   "source": [
    "input_str = \"2003-Q1\"\n",
    "output_str = convert_quarter_to_date(input_str)\n",
    "future_date = pd.to_datetime(output_str)\n",
    "future_date_numeric = np.array([future_date.timestamp()]).astype(int).reshape(-1, 1)\n",
    "predicted_value = model.predict(future_date_numeric)[0]\n",
    "\n",
    "print(f'Predicted value for {future_date}: {predicted_value}')"
   ]
  },
  {
   "cell_type": "code",
   "execution_count": null,
   "metadata": {},
   "outputs": [],
   "source": [
    "from datetime import datetime\n",
    "import re\n",
    "def convert_quarter_to_date(quarter_str):\n",
    "    # Extract year and quarter from the input string\n",
    "    match = re.match(r'(\\d+)-Q(\\d+)', quarter_str)\n",
    "    \n",
    "    if match:\n",
    "        year = int(match.group(1))\n",
    "        quarter = int(match.group(2))\n",
    "        \n",
    "        # Calculate the month and day based on the quarter\n",
    "        month = (quarter - 1) * 3 + 1\n",
    "        \n",
    "        # Create a datetime object\n",
    "        date_object = datetime(year, month, 1)\n",
    "        \n",
    "        # Format the datetime object as a string\n",
    "        result_str = date_object.strftime('%Y-%m-%d')\n",
    "        \n",
    "        return result_str\n",
    "\n",
    "    else:\n",
    "        raise ValueError(\"Invalid input format. Please use the format 'YYYY-QX'.\")"
   ]
  },
  {
   "cell_type": "code",
   "execution_count": 232,
   "metadata": {},
   "outputs": [],
   "source": [
    "import pandas as pd\n",
    "from sklearn.ensemble import RandomForestRegressor\n",
    "from sklearn.metrics import mean_squared_error\n",
    "from datetime import datetime, timedelta\n",
    "\n",
    "# Convert the 'Quarterly Year' column to datetime\n",
    "# df['Quarterly Year'] = pd.to_datetime(df['Quarterly Year'])\n",
    "\n",
    "# Extract year and quarter to use as features\n",
    "df['Year'] = df.index.year\n",
    "df['Quarter'] = df.index.quarter\n",
    "\n",
    "# Create a lag feature to use past values\n",
    "df['Lag_Value'] = df[df.columns[2]].shift(1)\n"
   ]
  },
  {
   "cell_type": "code",
   "execution_count": 233,
   "metadata": {},
   "outputs": [
    {
     "data": {
      "text/html": [
       "<div>\n",
       "<style scoped>\n",
       "    .dataframe tbody tr th:only-of-type {\n",
       "        vertical-align: middle;\n",
       "    }\n",
       "\n",
       "    .dataframe tbody tr th {\n",
       "        vertical-align: top;\n",
       "    }\n",
       "\n",
       "    .dataframe thead th {\n",
       "        text-align: right;\n",
       "    }\n",
       "</style>\n",
       "<table border=\"1\" class=\"dataframe\">\n",
       "  <thead>\n",
       "    <tr style=\"text-align: right;\">\n",
       "      <th></th>\n",
       "      <th>Total Agricultural Production (in million tonnes)</th>\n",
       "      <th>Total Agricultural Revenues (in billion INR)</th>\n",
       "      <th>Employment (in million people)</th>\n",
       "      <th>GDP Contribution Percentage from Agriculture</th>\n",
       "      <th>Year</th>\n",
       "      <th>Quarter</th>\n",
       "      <th>Lag_Value</th>\n",
       "    </tr>\n",
       "    <tr>\n",
       "      <th>Quarterly Year</th>\n",
       "      <th></th>\n",
       "      <th></th>\n",
       "      <th></th>\n",
       "      <th></th>\n",
       "      <th></th>\n",
       "      <th></th>\n",
       "      <th></th>\n",
       "    </tr>\n",
       "  </thead>\n",
       "  <tbody>\n",
       "    <tr>\n",
       "      <th>2003-01-01</th>\n",
       "      <td>92.17</td>\n",
       "      <td>1610.2</td>\n",
       "      <td>54.2</td>\n",
       "      <td>18.4</td>\n",
       "      <td>2003</td>\n",
       "      <td>1</td>\n",
       "      <td>NaN</td>\n",
       "    </tr>\n",
       "    <tr>\n",
       "      <th>2003-04-01</th>\n",
       "      <td>94.55</td>\n",
       "      <td>1646.8</td>\n",
       "      <td>54.3</td>\n",
       "      <td>18.2</td>\n",
       "      <td>2003</td>\n",
       "      <td>2</td>\n",
       "      <td>54.2</td>\n",
       "    </tr>\n",
       "    <tr>\n",
       "      <th>2003-07-01</th>\n",
       "      <td>81.16</td>\n",
       "      <td>1485.0</td>\n",
       "      <td>54.4</td>\n",
       "      <td>17.9</td>\n",
       "      <td>2003</td>\n",
       "      <td>3</td>\n",
       "      <td>54.3</td>\n",
       "    </tr>\n",
       "    <tr>\n",
       "      <th>2003-10-01</th>\n",
       "      <td>86.77</td>\n",
       "      <td>1561.1</td>\n",
       "      <td>54.5</td>\n",
       "      <td>18.1</td>\n",
       "      <td>2003</td>\n",
       "      <td>4</td>\n",
       "      <td>54.4</td>\n",
       "    </tr>\n",
       "    <tr>\n",
       "      <th>2004-01-01</th>\n",
       "      <td>95.21</td>\n",
       "      <td>1697.5</td>\n",
       "      <td>54.6</td>\n",
       "      <td>18.3</td>\n",
       "      <td>2004</td>\n",
       "      <td>1</td>\n",
       "      <td>54.5</td>\n",
       "    </tr>\n",
       "  </tbody>\n",
       "</table>\n",
       "</div>"
      ],
      "text/plain": [
       "                Total Agricultural Production (in million tonnes)  \\\n",
       "Quarterly Year                                                      \n",
       "2003-01-01                                                  92.17   \n",
       "2003-04-01                                                  94.55   \n",
       "2003-07-01                                                  81.16   \n",
       "2003-10-01                                                  86.77   \n",
       "2004-01-01                                                  95.21   \n",
       "\n",
       "                Total Agricultural Revenues (in billion INR)  \\\n",
       "Quarterly Year                                                 \n",
       "2003-01-01                                            1610.2   \n",
       "2003-04-01                                            1646.8   \n",
       "2003-07-01                                            1485.0   \n",
       "2003-10-01                                            1561.1   \n",
       "2004-01-01                                            1697.5   \n",
       "\n",
       "                Employment (in million people)  \\\n",
       "Quarterly Year                                   \n",
       "2003-01-01                                54.2   \n",
       "2003-04-01                                54.3   \n",
       "2003-07-01                                54.4   \n",
       "2003-10-01                                54.5   \n",
       "2004-01-01                                54.6   \n",
       "\n",
       "                GDP Contribution Percentage from Agriculture  Year  Quarter  \\\n",
       "Quarterly Year                                                                \n",
       "2003-01-01                                              18.4  2003        1   \n",
       "2003-04-01                                              18.2  2003        2   \n",
       "2003-07-01                                              17.9  2003        3   \n",
       "2003-10-01                                              18.1  2003        4   \n",
       "2004-01-01                                              18.3  2004        1   \n",
       "\n",
       "                Lag_Value  \n",
       "Quarterly Year             \n",
       "2003-01-01            NaN  \n",
       "2003-04-01           54.2  \n",
       "2003-07-01           54.3  \n",
       "2003-10-01           54.4  \n",
       "2004-01-01           54.5  "
      ]
     },
     "execution_count": 233,
     "metadata": {},
     "output_type": "execute_result"
    }
   ],
   "source": [
    "df.head()"
   ]
  },
  {
   "cell_type": "code",
   "execution_count": 235,
   "metadata": {},
   "outputs": [
    {
     "name": "stdout",
     "output_type": "stream",
     "text": [
      "Predicted Value for 2022-07-01: 59.31599999999999\n"
     ]
    }
   ],
   "source": [
    "# Features and target variable\n",
    "features = ['Year', 'Quarter', 'Lag_Value']\n",
    "target = df.columns[2]\n",
    "\n",
    "# Split the data into features and target variable\n",
    "X = df[features]\n",
    "y = df[target]\n",
    "\n",
    "# Create a Random Forest Regressor\n",
    "rf_model = RandomForestRegressor(n_estimators=100, random_state=42)\n",
    "X =X.fillna(0)\n",
    "rf_model.fit(X, y)\n",
    "future_data = pd.DataFrame({'Year': [2003], 'Quarter': [1], 'Lag_Value': [df.iloc[-1][df.columns[2]]]})\n",
    "predicted_value = rf_model.predict(future_data)\n",
    "print(f'Predicted Value for 2022-07-01: {predicted_value[0]}')"
   ]
  },
  {
   "cell_type": "code",
   "execution_count": 231,
   "metadata": {},
   "outputs": [
    {
     "name": "stdout",
     "output_type": "stream",
     "text": [
      "Predicted Value for 2022-07-01: 96.46219999999992\n"
     ]
    }
   ],
   "source": [
    "future_data = pd.DataFrame({'Year': [2004], 'Quarter': [1], 'Lag_Value': [df.iloc[-1][df.columns[0]]]})\n",
    "predicted_value = rf_model.predict(future_data)\n",
    "print(f'Predicted Value for 2022-07-01: {predicted_value[0]}')"
   ]
  },
  {
   "cell_type": "code",
   "execution_count": 261,
   "metadata": {},
   "outputs": [],
   "source": [
    "from sklearn.linear_model import LinearRegression\n",
    "import numpy as np\n",
    "from datetime import datetime\n",
    "import re\n",
    "import pandas as pd\n",
    "import matplotlib.pyplot as plt \n",
    "\n",
    "class RegressionPredictor:\n",
    "    def __init__(self, file):\n",
    "        self.df = self.process_dataset(file)\n",
    "\n",
    "    def process_dataset(self, file):\n",
    "        df = pd.read_csv(file)\n",
    "        df.iloc[:, 0] = pd.to_datetime(df.iloc[:, 0])\n",
    "        for i in range(1, 5):\n",
    "            if df.iloc[:, i].dtype == 'object':\n",
    "                df.iloc[:, i] = df.iloc[:, i].str.replace(',', '')\n",
    "            df.iloc[:, i] = df.iloc[:, i].astype(float)\n",
    "        df.set_index(df.columns[0], inplace=True)\n",
    "        return df\n",
    "\n",
    "    def train_linear_regression_model(self, target_index):\n",
    "\n",
    "        df['Year'] = df.index.year\n",
    "        df['Quarter'] = df.index.quarter\n",
    "\n",
    "        # Create a lag feature to use past values\n",
    "        df['Lag_Value'] = df[df.columns[target_index]].shift(1)\n",
    "\n",
    "        features = ['Year', 'Quarter', 'Lag_Value']\n",
    "        target = df.columns[target_index]\n",
    "\n",
    "        # Split the data into features and target variable\n",
    "        X = df[features]\n",
    "        y = df[target]\n",
    "\n",
    "        # Create a Random Forest Regressor\n",
    "        rf_model = RandomForestRegressor(n_estimators=100, random_state=42)\n",
    "        X =X.fillna(0)\n",
    "        rf_model.fit(X, y)\n",
    "        return rf_model\n",
    "\n",
    "    def predict_future_value(self, future_date_str, target_index):\n",
    "        target_index = target_index - 1\n",
    "        Q1 = self.df.iloc[-4][self.df.columns[target_index]]\n",
    "        Q2 = self.df.iloc[-3][self.df.columns[target_index]]\n",
    "        Q3 = self.df.iloc[-2][self.df.columns[target_index]]\n",
    "        Q4 = self.df.iloc[-1][self.df.columns[target_index]]\n",
    "        compare = 0\n",
    "        year = int(future_date_str.split('-')[0])\n",
    "        qtr = future_date_str.split('-')[1]\n",
    "        qtr_val = 1\n",
    "        if qtr == 'Q1':\n",
    "            compare = Q1\n",
    "            qtr_val = 1\n",
    "        elif qtr == 'Q2':\n",
    "            compare = Q2\n",
    "            qtr_val = 2\n",
    "\n",
    "        elif qtr == 'Q3':\n",
    "            compare = Q3\n",
    "            qtr_val = 3\n",
    "\n",
    "        elif qtr == 'Q4':\n",
    "            compare = Q4\n",
    "            qtr_val = 4\n",
    "\n",
    "        model = self.train_linear_regression_model(target_index)\n",
    "        future_data = pd.DataFrame({'Year': [year], 'Quarter': [qtr_val], 'Lag_Value': [df.iloc[-1][df.columns[2]]]})\n",
    "        predicted_value = model.predict(future_data)[0]\n",
    "\n",
    "        perc_change = self.calculate_percentage_change(compare, predicted_value)\n",
    "        if perc_change > 0:\n",
    "            perc_change = f\"+{perc_change:.2f}%\"\n",
    "        else:\n",
    "            perc_change = f\"{perc_change:.2f}%\"\n",
    "\n",
    "        return predicted_value.round(4), perc_change\n",
    "\n",
    "    @staticmethod\n",
    "    def convert_quarter_to_date(quarter_str):\n",
    "        match = re.match(r'(\\d+)-Q(\\d+)', quarter_str)\n",
    "\n",
    "        if match:\n",
    "            year = int(match.group(1))\n",
    "            quarter = int(match.group(2))\n",
    "            month = (quarter - 1) * 3 + 1\n",
    "            date_object = datetime(year, month, 1)\n",
    "            result_str = date_object.strftime('%Y-%m-%d')\n",
    "\n",
    "            return result_str\n",
    "\n",
    "    @staticmethod\n",
    "    def calculate_percentage_change(y1, y2):\n",
    "        return ((y2 - y1) / y1) * 100\n",
    "    \n",
    "\n",
    "    def plot_data_with_prediction(self, target_index, xl, yl, future_date_str, predicted_value):\n",
    "        # Use a dark theme\n",
    "        plt.style.use('dark_background')\n",
    "\n",
    "        # Plot historical data\n",
    "        plt.figure(figsize=(10, 6))\n",
    "        plt.plot(self.df.index, self.df[self.df.columns[target_index]], label='Historical Data', marker='o', color='lightblue', linestyle='-')\n",
    "\n",
    "        # Plot predicted future value\n",
    "        future_date_str = self.convert_quarter_to_date(future_date_str)\n",
    "        future_date = pd.to_datetime(future_date_str)\n",
    "\n",
    "        plt.scatter(future_date, predicted_value, color='red', label='Predicted Future Value', zorder=5)\n",
    "\n",
    "        # Annotate the predicted value on the plot\n",
    "        plt.text(future_date, predicted_value, f'{predicted_value:.2f}', color='red', ha='left', va='bottom', fontsize=10, bbox=dict(facecolor='black', edgecolor='none', boxstyle='round,pad=0.3'))\n",
    "\n",
    "        # Customize plot aesthetics\n",
    "        plt.title(xl, fontsize=14, color='white')\n",
    "        plt.xlabel('Year', fontsize=12, color='white')\n",
    "        plt.ylabel(yl, fontsize=12, color='white')\n",
    "        plt.legend(fontsize=10)\n",
    "        plt.grid(True, color='gray', linestyle='--', alpha=0.5)\n",
    "\n",
    "        # Customize tick parameters\n",
    "        plt.tick_params(axis='both', which='both', colors='white')\n",
    "        return plt.gcf()\n",
    "\n",
    "    def create_and_save_plot(self, target_index, xl, yl, save_path, future_date_str, predicted_value):\n",
    "        plot = self.plot_data_with_prediction(target_index, xl, yl, future_date_str=future_date_str, predicted_value=predicted_value)\n",
    "        plot.savefig(save_path)\n",
    "        plt.close() \n",
    "\n",
    "\n",
    "\n"
   ]
  },
  {
   "cell_type": "code",
   "execution_count": 262,
   "metadata": {},
   "outputs": [],
   "source": [
    "file = 'Datasets/Agriculture/Agriculture_sector.csv'\n",
    "xl1 = file.split('/')[-1].split('.')[0]\n",
    "features = pd.read_csv(file).columns\n",
    "linear_reg_predictor = RegressionPredictor(file=file)\n",
    "future_date_str = '2004-Q1'\n",
    "predictions = {f'{features[1]}': [0, 0], f'{features[2]}': [0, 0], f'{features[3]}': [0, 0], f'{features[4]}': [0, 0]}\n",
    "imgs_names = ['Production (Number)','Economy (Revenues)','Employment','GDP Contribution']\n",
    "\n",
    "\n",
    "for i in range(1, 5):\n",
    "    predicted_value, perc = linear_reg_predictor.predict_future_value(future_date_str, i)\n",
    "    key = list(predictions.keys())[i-1]\n",
    "    predictions[key][0] = predicted_value\n",
    "    predictions[key][1] = perc\n",
    "    xl = f'{xl1} {key} Forecast Plot'\n",
    "    yl = f'{key}'\n",
    "    linear_reg_predictor.create_and_save_plot(target_index=i-1, xl=xl, yl=yl, save_path=f'Static/ReportPlots/{imgs_names[i-1]}.png', future_date_str=future_date_str, predicted_value=predicted_value)\n",
    "    "
   ]
  },
  {
   "cell_type": "code",
   "execution_count": 246,
   "metadata": {},
   "outputs": [
    {
     "data": {
      "text/plain": [
       "{'Total Agricultural Production (in million tonnes)': [94.1824, '-27.32%'],\n",
       " 'Total Agricultural Revenues (in billion INR)': [1669.759, '-79.81%'],\n",
       " 'Employment (in million people)': [59.33, '-4.00%'],\n",
       " 'GDP Contribution Percentage from Agriculture': [18.258, '+25.92%']}"
      ]
     },
     "execution_count": 246,
     "metadata": {},
     "output_type": "execute_result"
    }
   ],
   "source": [
    "predictions"
   ]
  },
  {
   "cell_type": "code",
   "execution_count": 143,
   "metadata": {},
   "outputs": [],
   "source": [
    "file='Datasets/Manufacturing/Chemicals.csv'"
   ]
  },
  {
   "cell_type": "code",
   "execution_count": 145,
   "metadata": {},
   "outputs": [],
   "source": []
  },
  {
   "cell_type": "code",
   "execution_count": 147,
   "metadata": {},
   "outputs": [
    {
     "data": {
      "text/plain": [
       "'Quarterly Year'"
      ]
     },
     "execution_count": 147,
     "metadata": {},
     "output_type": "execute_result"
    }
   ],
   "source": [
    "features[0]"
   ]
  },
  {
   "cell_type": "code",
   "execution_count": 153,
   "metadata": {},
   "outputs": [
    {
     "data": {
      "text/plain": [
       "{'Total BPO Services (USD Billion)': [75.0086884911739, '-55.35%'],\n",
       " 'Total BPO Revenues (USD Billion)': [7.815605431277658, '-54.56%'],\n",
       " 'Employment (Million)': [3.62149153601175, '-55.84%'],\n",
       " 'GDP Contribution Percentage from BPO': [5.017791791743165, '-41.65%']}"
      ]
     },
     "execution_count": 153,
     "metadata": {},
     "output_type": "execute_result"
    }
   ],
   "source": [
    "predictions"
   ]
  },
  {
   "cell_type": "code",
   "execution_count": 101,
   "metadata": {},
   "outputs": [
    {
     "data": {
      "text/plain": [
       "(16.10137259804222, '+11.04%')"
      ]
     },
     "execution_count": 101,
     "metadata": {},
     "output_type": "execute_result"
    }
   ],
   "source": [
    "predicted_value, perc"
   ]
  },
  {
   "cell_type": "code",
   "execution_count": null,
   "metadata": {},
   "outputs": [],
   "source": [
    "def create_and_save_plot(agriculture_predictor, target_index, xl, yl, save_path):\n",
    "    plot = agriculture_predictor.plot_data_with_prediction(target_index)\n",
    "    plot.savefig(save_path)\n",
    "    plt.show()\n",
    "\n",
    "# Example usage:\n",
    "create_and_save_plot(agriculture_predictor, target_index=0, save_path='path/to/save/figure.png')"
   ]
  },
  {
   "cell_type": "code",
   "execution_count": 97,
   "metadata": {},
   "outputs": [
    {
     "data": {
      "image/png": "[encoded data removed]",
      "text/plain": [
       "<Figure size 1000x600 with 1 Axes>"
      ]
     },
     "metadata": {},
     "output_type": "display_data"
    }
   ],
   "source": [
    "agriculture_predictor = RegressionPredictor(file='Datasets/Agriculture/Agriculture_sector.csv')\n",
    "agriculture_predictor.plot_data_with_prediction(target_index=0)"
   ]
  },
  {
   "cell_type": "markdown",
   "metadata": {},
   "source": [
    "## Return list of files in folder"
   ]
  },
  {
   "cell_type": "code",
   "execution_count": 152,
   "metadata": {},
   "outputs": [
    {
     "data": {
      "text/plain": [
       "['BPO', 'Information technology', 'Retail', 'Telecommunications', 'Tourism']"
      ]
     },
     "execution_count": 152,
     "metadata": {},
     "output_type": "execute_result"
    }
   ],
   "source": [
    "import os\n",
    "\n",
    "def list_files_without_extensions(folder_path):\n",
    "    file_names = []\n",
    "    for filename in os.listdir(folder_path):\n",
    "        # Check if the path is a file (not a directory)\n",
    "        if os.path.isfile(os.path.join(folder_path, filename)):\n",
    "            # Split the filename and extension\n",
    "            name, extension = os.path.splitext(filename)\n",
    "            # Add the name (without extension) to the list\n",
    "            file_names.append(name)\n",
    "    return file_names\n",
    "\n",
    "# Specify the folder path\n",
    "folder_path = 'Datasets/Service'\n",
    "\n",
    "# Get the list of file names without extensions\n",
    "file_names_without_extensions = list_files_without_extensions(folder_path)\n",
    "\n",
    "file_names_without_extensions\n"
   ]
  },
  {
   "cell_type": "markdown",
   "metadata": {},
   "source": []
  },
  {
   "cell_type": "markdown",
   "metadata": {},
   "source": [
    "## Example: 'Q1 2003', '2003 Q2', 'Q1-2003'"
   ]
  },
  {
   "cell_type": "code",
   "execution_count": 136,
   "metadata": {},
   "outputs": [],
   "source": [
    "import os\n",
    "import pandas as pd\n",
    "\n",
    "def convert_date_format(csv_path):\n",
    "    # Load the CSV file\n",
    "    df = pd.read_csv(csv_path)\n",
    "\n",
    "    # Assuming the date column is named 'Date', modify the column to the desired format\n",
    "    df[df.columns[0]] = df[df.columns[0]].apply(parse_and_convert_date)\n",
    "\n",
    "    # Save the modified DataFrame back to the CSV file\n",
    "    df.to_csv(csv_path, index=False)\n",
    "\n",
    "def parse_and_convert_date(date_str):\n",
    "    # Add more parsing logic if needed\n",
    "    # Here, we assume that the date string contains a quarter and a year\n",
    "\n",
    "\n",
    "    parts = date_str.replace('-', ' ').split()\n",
    "    len_part1 = len(parts[0])\n",
    "    len_part2 = len(parts[1])\n",
    "    year = \"\"\n",
    "    quarter = \"\"\n",
    "    if len_part1>len_part2:\n",
    "        year = parts[0]\n",
    "        quarter = parts[1]\n",
    "    else:\n",
    "        year = parts[1]\n",
    "        quarter = parts[0]\n",
    "        \n",
    "    formatted_date = f'{year}-{quarter}'\n",
    "\n",
    "    return formatted_date\n",
    "\n",
    "# Specify the folder path containing your CSV files\n",
    "folder_path = 'Datasets/Manufacturing'\n",
    "\n",
    "# Iterate through each CSV file in the folder and convert the date format\n",
    "for filename in os.listdir(folder_path):\n",
    "    if filename.endswith('.csv'):\n",
    "        csv_path = os.path.join(folder_path, filename)\n",
    "        convert_date_format(csv_path)\n"
   ]
  },
  {
   "cell_type": "code",
   "execution_count": 6,
   "metadata": {},
   "outputs": [],
   "source": [
    "file = \"Datasets/Service/BPO.csv\""
   ]
  },
  {
   "cell_type": "code",
   "execution_count": 16,
   "metadata": {},
   "outputs": [],
   "source": [
    "from lstmmodel import TimeSeriesPredictor\n",
    "from Arima_Model import ARIMAModel"
   ]
  },
  {
   "cell_type": "code",
   "execution_count": 2,
   "metadata": {},
   "outputs": [],
   "source": [
    "import pandas as pd"
   ]
  },
  {
   "cell_type": "code",
   "execution_count": 19,
   "metadata": {},
   "outputs": [],
   "source": [
    "from lstmmodel import TimeSeriesPredictor\n",
    "from Arima_Model import ARIMAModel"
   ]
  },
  {
   "cell_type": "code",
   "execution_count": 8,
   "metadata": {},
   "outputs": [
    {
     "name": "stderr",
     "output_type": "stream",
     "text": [
      "c:\\Users\\Lenovo\\OneDrive\\Desktop\\EconVisor\\EconVisor---Industry-Forecasting-Tool\\Arima_Model.py:17: UserWarning: Could not infer format, so each element will be parsed individually, falling back to `dateutil`. To ensure parsing is consistent and as-expected, please specify a format.\n",
      "  df.iloc[:, 0] = pd.to_datetime(df.iloc[:, 0])\n",
      "c:\\Users\\Lenovo\\OneDrive\\Desktop\\EconVisor\\econvisorv\\lib\\site-packages\\statsmodels\\tsa\\base\\tsa_model.py:473: ValueWarning: No frequency information was provided, so inferred frequency QS-OCT will be used.\n",
      "  self._init_dates(dates, freq)\n",
      "c:\\Users\\Lenovo\\OneDrive\\Desktop\\EconVisor\\econvisorv\\lib\\site-packages\\statsmodels\\tsa\\base\\tsa_model.py:473: ValueWarning: No frequency information was provided, so inferred frequency QS-OCT will be used.\n",
      "  self._init_dates(dates, freq)\n",
      "c:\\Users\\Lenovo\\OneDrive\\Desktop\\EconVisor\\econvisorv\\lib\\site-packages\\statsmodels\\tsa\\base\\tsa_model.py:473: ValueWarning: No frequency information was provided, so inferred frequency QS-OCT will be used.\n",
      "  self._init_dates(dates, freq)\n"
     ]
    },
    {
     "name": "stdout",
     "output_type": "stream",
     "text": [
      "2021-07-01 00:00:00\n",
      "                                      SARIMAX Results                                       \n",
      "============================================================================================\n",
      "Dep. Variable:     Total BPO Services (USD Billion)   No. Observations:                   75\n",
      "Model:                               ARIMA(3, 1, 0)   Log Likelihood                -138.409\n",
      "Date:                              Wed, 29 Nov 2023   AIC                            284.818\n",
      "Time:                                      23:23:40   BIC                            294.035\n",
      "Sample:                                  01-01-2003   HQIC                           288.495\n",
      "                                       - 07-01-2021                                         \n",
      "Covariance Type:                                opg                                         \n",
      "==============================================================================\n",
      "                 coef    std err          z      P>|z|      [0.025      0.975]\n",
      "------------------------------------------------------------------------------\n",
      "ar.L1          0.3286      0.064      5.105      0.000       0.202       0.455\n",
      "ar.L2          0.2940      0.066      4.487      0.000       0.166       0.422\n",
      "ar.L3          0.2716      0.066      4.128      0.000       0.143       0.401\n",
      "sigma2         2.4192      0.188     12.852      0.000       2.050       2.788\n",
      "===================================================================================\n",
      "Ljung-Box (L1) (Q):                   0.61   Jarque-Bera (JB):              1890.06\n",
      "Prob(Q):                              0.43   Prob(JB):                         0.00\n",
      "Heteroskedasticity (H):             212.74   Skew:                            -2.55\n",
      "Prob(H) (two-sided):                  0.00   Kurtosis:                        27.23\n",
      "===================================================================================\n",
      "\n",
      "Warnings:\n",
      "[1] Covariance matrix calculated using the outer product of gradients (complex-step).\n"
     ]
    }
   ],
   "source": [
    "\n",
    "arima_model = ARIMAModel(file=file, column_index=1)\n",
    "trained_model, _ = arima_model.train_arima_model()  \n",
    "arima_model.print_model_summary(trained_model)\n"
   ]
  },
  {
   "cell_type": "code",
   "execution_count": 20,
   "metadata": {},
   "outputs": [
    {
     "name": "stderr",
     "output_type": "stream",
     "text": [
      "c:\\Users\\Lenovo\\OneDrive\\Desktop\\EconVisor\\EconVisor---Industry-Forecasting-Tool\\lstmmodel.py:24: UserWarning: Could not infer format, so each element will be parsed individually, falling back to `dateutil`. To ensure parsing is consistent and as-expected, please specify a format.\n",
      "  self.df.iloc[:, 0] = pd.to_datetime(self.df.iloc[:, 0])\n"
     ]
    },
    {
     "name": "stdout",
     "output_type": "stream",
     "text": [
      "Epoch 1/100\n",
      "74/74 - 1s - loss: 0.1768 - 1s/epoch - 20ms/step\n",
      "Epoch 2/100\n",
      "74/74 - 0s - loss: 0.0526 - 163ms/epoch - 2ms/step\n",
      "Epoch 3/100\n",
      "74/74 - 0s - loss: 0.0114 - 175ms/epoch - 2ms/step\n",
      "Epoch 4/100\n",
      "74/74 - 0s - loss: 0.0014 - 178ms/epoch - 2ms/step\n",
      "Epoch 5/100\n",
      "74/74 - 0s - loss: 5.0746e-04 - 175ms/epoch - 2ms/step\n",
      "Epoch 6/100\n",
      "74/74 - 0s - loss: 3.4145e-04 - 179ms/epoch - 2ms/step\n",
      "Epoch 7/100\n",
      "74/74 - 0s - loss: 3.2917e-04 - 196ms/epoch - 3ms/step\n",
      "Epoch 8/100\n",
      "74/74 - 0s - loss: 2.9623e-04 - 157ms/epoch - 2ms/step\n",
      "Epoch 9/100\n",
      "74/74 - 0s - loss: 2.7791e-04 - 162ms/epoch - 2ms/step\n",
      "Epoch 10/100\n",
      "74/74 - 0s - loss: 2.8518e-04 - 171ms/epoch - 2ms/step\n",
      "Epoch 11/100\n",
      "74/74 - 0s - loss: 2.5568e-04 - 166ms/epoch - 2ms/step\n",
      "Epoch 12/100\n",
      "74/74 - 0s - loss: 2.7393e-04 - 170ms/epoch - 2ms/step\n",
      "Epoch 13/100\n",
      "74/74 - 0s - loss: 3.0267e-04 - 168ms/epoch - 2ms/step\n",
      "Epoch 14/100\n",
      "74/74 - 0s - loss: 2.5115e-04 - 161ms/epoch - 2ms/step\n",
      "Epoch 15/100\n",
      "74/74 - 0s - loss: 2.6545e-04 - 172ms/epoch - 2ms/step\n",
      "Epoch 16/100\n",
      "74/74 - 0s - loss: 3.5834e-04 - 167ms/epoch - 2ms/step\n",
      "Epoch 17/100\n",
      "74/74 - 0s - loss: 2.4095e-04 - 191ms/epoch - 3ms/step\n",
      "Epoch 18/100\n",
      "74/74 - 0s - loss: 2.4489e-04 - 183ms/epoch - 2ms/step\n",
      "Epoch 19/100\n",
      "74/74 - 0s - loss: 2.7748e-04 - 174ms/epoch - 2ms/step\n",
      "Epoch 20/100\n",
      "74/74 - 0s - loss: 3.1445e-04 - 170ms/epoch - 2ms/step\n",
      "Epoch 21/100\n",
      "74/74 - 0s - loss: 2.6368e-04 - 177ms/epoch - 2ms/step\n",
      "Epoch 22/100\n",
      "74/74 - 0s - loss: 2.2124e-04 - 173ms/epoch - 2ms/step\n",
      "Epoch 23/100\n",
      "74/74 - 0s - loss: 3.0790e-04 - 173ms/epoch - 2ms/step\n",
      "Epoch 24/100\n",
      "74/74 - 0s - loss: 3.3856e-04 - 207ms/epoch - 3ms/step\n",
      "Epoch 25/100\n",
      "74/74 - 0s - loss: 3.2104e-04 - 191ms/epoch - 3ms/step\n",
      "Epoch 26/100\n",
      "74/74 - 0s - loss: 2.8574e-04 - 159ms/epoch - 2ms/step\n",
      "Epoch 27/100\n",
      "74/74 - 0s - loss: 2.2942e-04 - 172ms/epoch - 2ms/step\n",
      "Epoch 28/100\n",
      "74/74 - 0s - loss: 3.6121e-04 - 165ms/epoch - 2ms/step\n",
      "Epoch 29/100\n",
      "74/74 - 0s - loss: 3.1166e-04 - 172ms/epoch - 2ms/step\n",
      "Epoch 30/100\n",
      "74/74 - 0s - loss: 2.5426e-04 - 170ms/epoch - 2ms/step\n",
      "Epoch 31/100\n",
      "74/74 - 0s - loss: 2.2136e-04 - 180ms/epoch - 2ms/step\n",
      "Epoch 32/100\n",
      "74/74 - 0s - loss: 2.9555e-04 - 175ms/epoch - 2ms/step\n",
      "Epoch 33/100\n",
      "74/74 - 0s - loss: 2.7619e-04 - 168ms/epoch - 2ms/step\n",
      "Epoch 34/100\n",
      "74/74 - 0s - loss: 2.5510e-04 - 163ms/epoch - 2ms/step\n",
      "Epoch 35/100\n",
      "74/74 - 0s - loss: 4.6086e-04 - 163ms/epoch - 2ms/step\n",
      "Epoch 36/100\n",
      "74/74 - 0s - loss: 3.1190e-04 - 163ms/epoch - 2ms/step\n",
      "Epoch 37/100\n",
      "74/74 - 0s - loss: 3.5024e-04 - 169ms/epoch - 2ms/step\n",
      "Epoch 38/100\n",
      "74/74 - 0s - loss: 2.1001e-04 - 158ms/epoch - 2ms/step\n",
      "Epoch 39/100\n",
      "74/74 - 0s - loss: 4.9062e-04 - 167ms/epoch - 2ms/step\n",
      "Epoch 40/100\n",
      "74/74 - 0s - loss: 2.5580e-04 - 173ms/epoch - 2ms/step\n",
      "Epoch 41/100\n",
      "74/74 - 0s - loss: 2.5478e-04 - 198ms/epoch - 3ms/step\n",
      "Epoch 42/100\n",
      "74/74 - 0s - loss: 2.6420e-04 - 167ms/epoch - 2ms/step\n",
      "Epoch 43/100\n",
      "74/74 - 0s - loss: 2.7341e-04 - 166ms/epoch - 2ms/step\n",
      "Epoch 44/100\n",
      "74/74 - 0s - loss: 2.6189e-04 - 178ms/epoch - 2ms/step\n",
      "Epoch 45/100\n",
      "74/74 - 0s - loss: 3.2602e-04 - 168ms/epoch - 2ms/step\n",
      "Epoch 46/100\n",
      "74/74 - 0s - loss: 2.5796e-04 - 169ms/epoch - 2ms/step\n",
      "Epoch 47/100\n",
      "74/74 - 0s - loss: 2.4008e-04 - 175ms/epoch - 2ms/step\n",
      "Epoch 48/100\n",
      "74/74 - 0s - loss: 2.7196e-04 - 174ms/epoch - 2ms/step\n",
      "Epoch 49/100\n",
      "74/74 - 0s - loss: 3.2107e-04 - 172ms/epoch - 2ms/step\n",
      "Epoch 50/100\n",
      "74/74 - 0s - loss: 2.7155e-04 - 166ms/epoch - 2ms/step\n",
      "Epoch 51/100\n",
      "74/74 - 0s - loss: 3.8897e-04 - 168ms/epoch - 2ms/step\n",
      "Epoch 52/100\n",
      "74/74 - 0s - loss: 3.0480e-04 - 165ms/epoch - 2ms/step\n",
      "Epoch 53/100\n",
      "74/74 - 0s - loss: 2.4121e-04 - 168ms/epoch - 2ms/step\n",
      "Epoch 54/100\n",
      "74/74 - 0s - loss: 3.5158e-04 - 167ms/epoch - 2ms/step\n",
      "Epoch 55/100\n",
      "74/74 - 0s - loss: 3.0923e-04 - 165ms/epoch - 2ms/step\n",
      "Epoch 56/100\n",
      "74/74 - 0s - loss: 5.1331e-04 - 168ms/epoch - 2ms/step\n",
      "Epoch 57/100\n",
      "74/74 - 0s - loss: 3.8414e-04 - 161ms/epoch - 2ms/step\n",
      "Epoch 58/100\n",
      "74/74 - 0s - loss: 3.1872e-04 - 195ms/epoch - 3ms/step\n",
      "Epoch 59/100\n",
      "74/74 - 0s - loss: 3.4052e-04 - 154ms/epoch - 2ms/step\n",
      "Epoch 60/100\n",
      "74/74 - 0s - loss: 3.0600e-04 - 173ms/epoch - 2ms/step\n",
      "Epoch 61/100\n",
      "74/74 - 0s - loss: 2.6179e-04 - 165ms/epoch - 2ms/step\n",
      "Epoch 62/100\n",
      "74/74 - 0s - loss: 3.6032e-04 - 176ms/epoch - 2ms/step\n",
      "Epoch 63/100\n",
      "74/74 - 0s - loss: 2.4361e-04 - 163ms/epoch - 2ms/step\n",
      "Epoch 64/100\n",
      "74/74 - 0s - loss: 2.4464e-04 - 172ms/epoch - 2ms/step\n",
      "Epoch 65/100\n",
      "74/74 - 0s - loss: 3.7367e-04 - 175ms/epoch - 2ms/step\n",
      "Epoch 66/100\n",
      "74/74 - 0s - loss: 2.5557e-04 - 168ms/epoch - 2ms/step\n",
      "Epoch 67/100\n",
      "74/74 - 0s - loss: 2.3190e-04 - 164ms/epoch - 2ms/step\n",
      "Epoch 68/100\n",
      "74/74 - 0s - loss: 3.0414e-04 - 160ms/epoch - 2ms/step\n",
      "Epoch 69/100\n",
      "74/74 - 0s - loss: 2.7078e-04 - 153ms/epoch - 2ms/step\n",
      "Epoch 70/100\n",
      "74/74 - 0s - loss: 3.6469e-04 - 154ms/epoch - 2ms/step\n",
      "Epoch 71/100\n",
      "74/74 - 0s - loss: 2.8957e-04 - 159ms/epoch - 2ms/step\n",
      "Epoch 72/100\n",
      "74/74 - 0s - loss: 2.2601e-04 - 156ms/epoch - 2ms/step\n",
      "Epoch 73/100\n",
      "74/74 - 0s - loss: 3.3158e-04 - 153ms/epoch - 2ms/step\n",
      "Epoch 74/100\n",
      "74/74 - 0s - loss: 2.3319e-04 - 162ms/epoch - 2ms/step\n",
      "Epoch 75/100\n",
      "74/74 - 0s - loss: 2.1647e-04 - 161ms/epoch - 2ms/step\n",
      "Epoch 76/100\n",
      "74/74 - 0s - loss: 3.9898e-04 - 162ms/epoch - 2ms/step\n",
      "Epoch 77/100\n",
      "74/74 - 0s - loss: 3.1227e-04 - 157ms/epoch - 2ms/step\n",
      "Epoch 78/100\n",
      "74/74 - 0s - loss: 2.8057e-04 - 164ms/epoch - 2ms/step\n",
      "Epoch 79/100\n",
      "74/74 - 0s - loss: 2.8591e-04 - 156ms/epoch - 2ms/step\n",
      "Epoch 80/100\n",
      "74/74 - 0s - loss: 3.4350e-04 - 161ms/epoch - 2ms/step\n",
      "Epoch 81/100\n",
      "74/74 - 0s - loss: 2.6154e-04 - 174ms/epoch - 2ms/step\n",
      "Epoch 82/100\n",
      "74/74 - 0s - loss: 3.0561e-04 - 176ms/epoch - 2ms/step\n",
      "Epoch 83/100\n",
      "74/74 - 0s - loss: 2.4751e-04 - 165ms/epoch - 2ms/step\n",
      "Epoch 84/100\n",
      "74/74 - 0s - loss: 3.7044e-04 - 172ms/epoch - 2ms/step\n",
      "Epoch 85/100\n",
      "74/74 - 0s - loss: 2.0422e-04 - 165ms/epoch - 2ms/step\n",
      "Epoch 86/100\n",
      "74/74 - 0s - loss: 2.7448e-04 - 165ms/epoch - 2ms/step\n",
      "Epoch 87/100\n",
      "74/74 - 0s - loss: 4.1530e-04 - 171ms/epoch - 2ms/step\n",
      "Epoch 88/100\n",
      "74/74 - 0s - loss: 2.2773e-04 - 167ms/epoch - 2ms/step\n",
      "Epoch 89/100\n",
      "74/74 - 0s - loss: 3.4744e-04 - 169ms/epoch - 2ms/step\n",
      "Epoch 90/100\n",
      "74/74 - 0s - loss: 2.5864e-04 - 163ms/epoch - 2ms/step\n",
      "Epoch 91/100\n",
      "74/74 - 0s - loss: 4.4587e-04 - 181ms/epoch - 2ms/step\n",
      "Epoch 92/100\n",
      "74/74 - 0s - loss: 3.3724e-04 - 180ms/epoch - 2ms/step\n",
      "Epoch 93/100\n",
      "74/74 - 0s - loss: 2.4786e-04 - 185ms/epoch - 3ms/step\n",
      "Epoch 94/100\n",
      "74/74 - 0s - loss: 2.8611e-04 - 203ms/epoch - 3ms/step\n",
      "Epoch 95/100\n",
      "74/74 - 0s - loss: 3.1378e-04 - 201ms/epoch - 3ms/step\n",
      "Epoch 96/100\n",
      "74/74 - 0s - loss: 2.5487e-04 - 210ms/epoch - 3ms/step\n",
      "Epoch 97/100\n",
      "74/74 - 0s - loss: 2.3648e-04 - 191ms/epoch - 3ms/step\n",
      "Epoch 98/100\n",
      "74/74 - 0s - loss: 4.1698e-04 - 181ms/epoch - 2ms/step\n",
      "Epoch 99/100\n",
      "74/74 - 0s - loss: 3.6645e-04 - 189ms/epoch - 3ms/step\n",
      "Epoch 100/100\n",
      "74/74 - 0s - loss: 3.2522e-04 - 189ms/epoch - 3ms/step\n"
     ]
    },
    {
     "ename": "AttributeError",
     "evalue": "'TimeSeriesPredictor' object has no attribute 'print_model_performance'",
     "output_type": "error",
     "traceback": [
      "\u001b[1;31m---------------------------------------------------------------------------\u001b[0m",
      "\u001b[1;31mAttributeError\u001b[0m                            Traceback (most recent call last)",
      "\u001b[1;32mc:\\Users\\Lenovo\\OneDrive\\Desktop\\EconVisor\\EconVisor---Industry-Forecasting-Tool\\testing.ipynb Cell 102\u001b[0m line \u001b[0;36m5\n\u001b[0;32m      <a href='vscode-notebook-cell:/c%3A/Users/Lenovo/OneDrive/Desktop/EconVisor/EconVisor---Industry-Forecasting-Tool/testing.ipynb#Y202sZmlsZQ%3D%3D?line=2'>3</a>\u001b[0m predictor\u001b[39m.\u001b[39mcreate_sequences(future_steps\u001b[39m=\u001b[39m\u001b[39m4\u001b[39m)\n\u001b[0;32m      <a href='vscode-notebook-cell:/c%3A/Users/Lenovo/OneDrive/Desktop/EconVisor/EconVisor---Industry-Forecasting-Tool/testing.ipynb#Y202sZmlsZQ%3D%3D?line=3'>4</a>\u001b[0m predictor\u001b[39m.\u001b[39mbuild_model(future_steps\u001b[39m=\u001b[39m\u001b[39m4\u001b[39m)  \u001b[39m# You need to call build_model first\u001b[39;00m\n\u001b[1;32m----> <a href='vscode-notebook-cell:/c%3A/Users/Lenovo/OneDrive/Desktop/EconVisor/EconVisor---Industry-Forecasting-Tool/testing.ipynb#Y202sZmlsZQ%3D%3D?line=4'>5</a>\u001b[0m predictor\u001b[39m.\u001b[39;49mprint_model_performance()\n",
      "\u001b[1;31mAttributeError\u001b[0m: 'TimeSeriesPredictor' object has no attribute 'print_model_performance'"
     ]
    }
   ],
   "source": [
    "predictor = TimeSeriesPredictor(file=file, selected_column=1, seq_length=3, epochs=100, batch_size=1)\n",
    "predictor.preprocess_data()\n",
    "predictor.create_sequences(future_steps=4)\n",
    "predictor.build_model(future_steps=4)  # You need to call build_model first\n",
    "predictor.print_model_performance()\n"
   ]
  },
  {
   "cell_type": "code",
   "execution_count": 15,
   "metadata": {},
   "outputs": [
    {
     "name": "stdout",
     "output_type": "stream",
     "text": [
      "Model: \"sequential_2\"\n",
      "_________________________________________________________________\n",
      " Layer (type)                Output Shape              Param #   \n",
      "=================================================================\n",
      " lstm_2 (LSTM)               (None, 50)                10400     \n",
      "                                                                 \n",
      " dense_2 (Dense)             (None, 4)                 204       \n",
      "                                                                 \n",
      "=================================================================\n",
      "Total params: 10604 (41.42 KB)\n",
      "Trainable params: 10604 (41.42 KB)\n",
      "Non-trainable params: 0 (0.00 Byte)\n",
      "_________________________________________________________________\n",
      "None\n"
     ]
    }
   ],
   "source": [
    "predictor.print_model_summary()"
   ]
  },
  {
   "cell_type": "code",
   "execution_count": null,
   "metadata": {},
   "outputs": [],
   "source": []
  }
 ],
 "metadata": {
  "kernelspec": {
   "display_name": "Python 3",
   "language": "python",
   "name": "python3"
  },
  "language_info": {
   "codemirror_mode": {
    "name": "ipython",
    "version": 3
   },
   "file_extension": ".py",
   "mimetype": "text/x-python",
   "name": "python",
   "nbconvert_exporter": "python",
   "pygments_lexer": "ipython3",
   "version": "3.9.13"
  }
 },
 "nbformat": 4,
 "nbformat_minor": 2
}
